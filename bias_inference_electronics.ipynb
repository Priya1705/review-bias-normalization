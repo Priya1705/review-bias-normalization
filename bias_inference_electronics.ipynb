{
  "nbformat": 4,
  "nbformat_minor": 0,
  "metadata": {
    "colab": {
      "name": "bias_inference_electronics.ipynb",
      "provenance": [],
      "collapsed_sections": []
    },
    "kernelspec": {
      "name": "python3",
      "display_name": "Python 3"
    }
  },
  "cells": [
    {
      "cell_type": "markdown",
      "metadata": {
        "id": "syiTGv8Siycy"
      },
      "source": [
        "Following analysis is done on prediction review score:\n",
        "\n",
        "\n",
        "1.   Plot the distribution and analysis of the mean difference between predicted and actual ratings for each user and product\n",
        "2.   Anomaly Detection\n",
        "3.   Analysis of discrepancy in bias present in review text and review score\n",
        "\n",
        "Note: When using a different dataset, change data location accordingly at all places"
      ]
    },
    {
      "cell_type": "code",
      "metadata": {
        "id": "dhTAlSbBxB-n",
        "outputId": "62f09f41-c267-4e6e-f9d5-b894ef4cd15d",
        "colab": {
          "base_uri": "https://localhost:8080/"
        }
      },
      "source": [
        "from google.colab import drive\n",
        "drive.mount('/content/drive')"
      ],
      "execution_count": null,
      "outputs": [
        {
          "output_type": "stream",
          "text": [
            "Mounted at /content/drive\n"
          ],
          "name": "stdout"
        }
      ]
    },
    {
      "cell_type": "code",
      "metadata": {
        "id": "wP8i0pRhxPvB"
      },
      "source": [
        "import sqlite3\n",
        "import csv\n",
        "import pandas as pd\n",
        "import numpy as np\n",
        "import nltk\n",
        "import string\n",
        "import matplotlib.pyplot as plt\n",
        "import numpy as np\n",
        "import sys\n",
        "from sklearn.metrics import r2_score, mean_squared_error, mean_absolute_error, max_error"
      ],
      "execution_count": null,
      "outputs": []
    },
    {
      "cell_type": "code",
      "metadata": {
        "id": "b2kqvLFhxYhU"
      },
      "source": [
        "test_data = pd.read_csv('drive/My Drive/ubr/ground_truth/7_test_data_biased.csv')"
      ],
      "execution_count": null,
      "outputs": []
    },
    {
      "cell_type": "code",
      "metadata": {
        "id": "rkWvFTdOxgFY"
      },
      "source": [
        "user_dict = np.load(\"drive/My Drive/ubr/ground_truth/user_dict.npy\",allow_pickle=True).item()\n",
        "item_dict = np.load(\"drive/My Drive/ubr/ground_truth/item_dict.npy\",allow_pickle=True).item()"
      ],
      "execution_count": null,
      "outputs": []
    },
    {
      "cell_type": "markdown",
      "metadata": {
        "id": "tK_WysyaUxKR"
      },
      "source": [
        "# Plot the distribution and analysis of the mean difference between predicted and actual ratings for each user and product"
      ]
    },
    {
      "cell_type": "code",
      "metadata": {
        "id": "zZXJC6WWxiVc"
      },
      "source": [
        "test_data['difference'] =  test_data['Biased_Score'] - test_data['Score']"
      ],
      "execution_count": null,
      "outputs": []
    },
    {
      "cell_type": "code",
      "metadata": {
        "id": "SZPXBwkixrWG",
        "outputId": "87fce600-6bde-4e61-8d4b-c5a5afe41f4c",
        "colab": {
          "base_uri": "https://localhost:8080/",
          "height": 419
        }
      },
      "source": [
        "test_data"
      ],
      "execution_count": null,
      "outputs": [
        {
          "output_type": "execute_result",
          "data": {
            "text/html": [
              "<div>\n",
              "<style scoped>\n",
              "    .dataframe tbody tr th:only-of-type {\n",
              "        vertical-align: middle;\n",
              "    }\n",
              "\n",
              "    .dataframe tbody tr th {\n",
              "        vertical-align: top;\n",
              "    }\n",
              "\n",
              "    .dataframe thead th {\n",
              "        text-align: right;\n",
              "    }\n",
              "</style>\n",
              "<table border=\"1\" class=\"dataframe\">\n",
              "  <thead>\n",
              "    <tr style=\"text-align: right;\">\n",
              "      <th></th>\n",
              "      <th>ProductId</th>\n",
              "      <th>UserId</th>\n",
              "      <th>Summary</th>\n",
              "      <th>Text</th>\n",
              "      <th>Score</th>\n",
              "      <th>Unbiased_Score</th>\n",
              "      <th>Biased_Score</th>\n",
              "      <th>difference</th>\n",
              "    </tr>\n",
              "  </thead>\n",
              "  <tbody>\n",
              "    <tr>\n",
              "      <th>0</th>\n",
              "      <td>B000652M6Y</td>\n",
              "      <td>AFXRO7K3ZZ0PX</td>\n",
              "      <td>b' best ever so far'</td>\n",
              "      <td>b' thi be the best stylu ever $ i haven t have...</td>\n",
              "      <td>5.0</td>\n",
              "      <td>3.976114</td>\n",
              "      <td>3.993860</td>\n",
              "      <td>-1.006140</td>\n",
              "    </tr>\n",
              "    <tr>\n",
              "      <th>1</th>\n",
              "      <td>B005LFT3GG</td>\n",
              "      <td>A37CEYB95LK6R6</td>\n",
              "      <td>b' wa star'</td>\n",
              "      <td>b' wa star $ i test the gbsandisk extrem pro g...</td>\n",
              "      <td>4.0</td>\n",
              "      <td>4.917229</td>\n",
              "      <td>4.667948</td>\n",
              "      <td>0.667948</td>\n",
              "    </tr>\n",
              "    <tr>\n",
              "      <th>2</th>\n",
              "      <td>B0097CZHAU</td>\n",
              "      <td>A26X7W5UM5QFT4</td>\n",
              "      <td>b' no good than other fairli basic screen save...</td>\n",
              "      <td>b' i do sever review thi even and all but thi ...</td>\n",
              "      <td>3.0</td>\n",
              "      <td>3.596357</td>\n",
              "      <td>3.714829</td>\n",
              "      <td>0.714829</td>\n",
              "    </tr>\n",
              "    <tr>\n",
              "      <th>3</th>\n",
              "      <td>B000A0UHXU</td>\n",
              "      <td>A3GTTWTYAEZUAG</td>\n",
              "      <td>b' fantast valu'</td>\n",
              "      <td>b' i wa skeptic at first becaus of the low pri...</td>\n",
              "      <td>4.0</td>\n",
              "      <td>4.600000</td>\n",
              "      <td>4.600000</td>\n",
              "      <td>0.600000</td>\n",
              "    </tr>\n",
              "    <tr>\n",
              "      <th>4</th>\n",
              "      <td>B007KEZMX4</td>\n",
              "      <td>A21W2EZ9LA25ST</td>\n",
              "      <td>b' live without it befor'</td>\n",
              "      <td>b' my first experi with a roku wa recommend it...</td>\n",
              "      <td>2.0</td>\n",
              "      <td>4.302322</td>\n",
              "      <td>4.269116</td>\n",
              "      <td>2.269116</td>\n",
              "    </tr>\n",
              "    <tr>\n",
              "      <th>...</th>\n",
              "      <td>...</td>\n",
              "      <td>...</td>\n",
              "      <td>...</td>\n",
              "      <td>...</td>\n",
              "      <td>...</td>\n",
              "      <td>...</td>\n",
              "      <td>...</td>\n",
              "      <td>...</td>\n",
              "    </tr>\n",
              "    <tr>\n",
              "      <th>75520</th>\n",
              "      <td>B002J9HBIO</td>\n",
              "      <td>AY687CJMS8J6G</td>\n",
              "      <td>b' right size right protect right price'</td>\n",
              "      <td>b' after lug around my laptop use a fulli pad ...</td>\n",
              "      <td>5.0</td>\n",
              "      <td>4.361977</td>\n",
              "      <td>4.309171</td>\n",
              "      <td>-0.690829</td>\n",
              "    </tr>\n",
              "    <tr>\n",
              "      <th>75521</th>\n",
              "      <td>B005H3Q57M</td>\n",
              "      <td>A2DB3W4GWFLJIA</td>\n",
              "      <td>b' great cord'</td>\n",
              "      <td>b' work good and ha last long than the one tha...</td>\n",
              "      <td>5.0</td>\n",
              "      <td>3.689890</td>\n",
              "      <td>3.695913</td>\n",
              "      <td>-1.304087</td>\n",
              "    </tr>\n",
              "    <tr>\n",
              "      <th>75522</th>\n",
              "      <td>B00264GKVQ</td>\n",
              "      <td>AKFOHJ9R66KUN</td>\n",
              "      <td>b' it s expens but work great on the treadmil'</td>\n",
              "      <td>b' you definit have to calibr it but it doe it...</td>\n",
              "      <td>4.0</td>\n",
              "      <td>4.581674</td>\n",
              "      <td>4.541593</td>\n",
              "      <td>0.541593</td>\n",
              "    </tr>\n",
              "    <tr>\n",
              "      <th>75523</th>\n",
              "      <td>B00AWKC0EC</td>\n",
              "      <td>ACMXHJV1KCOSV</td>\n",
              "      <td>b' interfac be a lot like the p'</td>\n",
              "      <td>b' when it turn on it ll sometim caus a pop or...</td>\n",
              "      <td>3.0</td>\n",
              "      <td>3.586580</td>\n",
              "      <td>3.582997</td>\n",
              "      <td>0.582997</td>\n",
              "    </tr>\n",
              "    <tr>\n",
              "      <th>75524</th>\n",
              "      <td>B002GM5GKO</td>\n",
              "      <td>A2BUQ240COLAOP</td>\n",
              "      <td>b' great product could use some improv though'</td>\n",
              "      <td>b' i just instal the rear view camera system i...</td>\n",
              "      <td>5.0</td>\n",
              "      <td>4.070559</td>\n",
              "      <td>4.100256</td>\n",
              "      <td>-0.899744</td>\n",
              "    </tr>\n",
              "  </tbody>\n",
              "</table>\n",
              "<p>75525 rows × 8 columns</p>\n",
              "</div>"
            ],
            "text/plain": [
              "        ProductId          UserId  ... Biased_Score difference\n",
              "0      B000652M6Y   AFXRO7K3ZZ0PX  ...     3.993860  -1.006140\n",
              "1      B005LFT3GG  A37CEYB95LK6R6  ...     4.667948   0.667948\n",
              "2      B0097CZHAU  A26X7W5UM5QFT4  ...     3.714829   0.714829\n",
              "3      B000A0UHXU  A3GTTWTYAEZUAG  ...     4.600000   0.600000\n",
              "4      B007KEZMX4  A21W2EZ9LA25ST  ...     4.269116   2.269116\n",
              "...           ...             ...  ...          ...        ...\n",
              "75520  B002J9HBIO   AY687CJMS8J6G  ...     4.309171  -0.690829\n",
              "75521  B005H3Q57M  A2DB3W4GWFLJIA  ...     3.695913  -1.304087\n",
              "75522  B00264GKVQ   AKFOHJ9R66KUN  ...     4.541593   0.541593\n",
              "75523  B00AWKC0EC   ACMXHJV1KCOSV  ...     3.582997   0.582997\n",
              "75524  B002GM5GKO  A2BUQ240COLAOP  ...     4.100256  -0.899744\n",
              "\n",
              "[75525 rows x 8 columns]"
            ]
          },
          "metadata": {
            "tags": []
          },
          "execution_count": 6
        }
      ]
    },
    {
      "cell_type": "markdown",
      "metadata": {
        "id": "Tu6hUfGHVeFU"
      },
      "source": [
        "## Calculation of mean difference value for each user and product"
      ]
    },
    {
      "cell_type": "markdown",
      "metadata": {
        "id": "LjVqST10WRes"
      },
      "source": [
        "### Product"
      ]
    },
    {
      "cell_type": "code",
      "metadata": {
        "id": "1mdQVXTAx584",
        "outputId": "0dd20b1d-6dc4-4d5f-9cf4-1a42b193904a",
        "colab": {
          "base_uri": "https://localhost:8080/"
        }
      },
      "source": [
        "item_unique = test_data.ProductId.unique()\n",
        "print(item_unique.shape)\n",
        "print(item_unique)"
      ],
      "execution_count": null,
      "outputs": [
        {
          "output_type": "stream",
          "text": [
            "(18914,)\n",
            "['B000652M6Y' 'B005LFT3GG' 'B0097CZHAU' ... 'B00C8OCEC8' 'B003JV3XZ6'\n",
            " 'B002GM5GKO']\n"
          ],
          "name": "stdout"
        }
      ]
    },
    {
      "cell_type": "code",
      "metadata": {
        "id": "T6aPx_gwx79d"
      },
      "source": [
        "#converting to a dataframe\n",
        "item_diff = pd.DataFrame({'ProductId': item_unique})"
      ],
      "execution_count": null,
      "outputs": []
    },
    {
      "cell_type": "code",
      "metadata": {
        "id": "LUDWgPxrx-Qv"
      },
      "source": [
        "item_d = []\n",
        "for item in range(len(item_unique)):\n",
        "  test_item = test_data[test_data['ProductId'] == item_unique[item]]\n",
        "  val = test_item['difference'].mean()\n",
        "  item_d.append(val)"
      ],
      "execution_count": null,
      "outputs": []
    },
    {
      "cell_type": "code",
      "metadata": {
        "id": "HhyJz6eJyB44",
        "outputId": "36628856-98f0-4594-f411-29ec7232fb71",
        "colab": {
          "base_uri": "https://localhost:8080/",
          "height": 419
        }
      },
      "source": [
        "item_diff['difference'] = item_d\n",
        "item_diff"
      ],
      "execution_count": null,
      "outputs": [
        {
          "output_type": "execute_result",
          "data": {
            "text/html": [
              "<div>\n",
              "<style scoped>\n",
              "    .dataframe tbody tr th:only-of-type {\n",
              "        vertical-align: middle;\n",
              "    }\n",
              "\n",
              "    .dataframe tbody tr th {\n",
              "        vertical-align: top;\n",
              "    }\n",
              "\n",
              "    .dataframe thead th {\n",
              "        text-align: right;\n",
              "    }\n",
              "</style>\n",
              "<table border=\"1\" class=\"dataframe\">\n",
              "  <thead>\n",
              "    <tr style=\"text-align: right;\">\n",
              "      <th></th>\n",
              "      <th>ProductId</th>\n",
              "      <th>difference</th>\n",
              "    </tr>\n",
              "  </thead>\n",
              "  <tbody>\n",
              "    <tr>\n",
              "      <th>0</th>\n",
              "      <td>B000652M6Y</td>\n",
              "      <td>-0.136928</td>\n",
              "    </tr>\n",
              "    <tr>\n",
              "      <th>1</th>\n",
              "      <td>B005LFT3GG</td>\n",
              "      <td>-0.020234</td>\n",
              "    </tr>\n",
              "    <tr>\n",
              "      <th>2</th>\n",
              "      <td>B0097CZHAU</td>\n",
              "      <td>0.410787</td>\n",
              "    </tr>\n",
              "    <tr>\n",
              "      <th>3</th>\n",
              "      <td>B000A0UHXU</td>\n",
              "      <td>0.017283</td>\n",
              "    </tr>\n",
              "    <tr>\n",
              "      <th>4</th>\n",
              "      <td>B007KEZMX4</td>\n",
              "      <td>-0.135827</td>\n",
              "    </tr>\n",
              "    <tr>\n",
              "      <th>...</th>\n",
              "      <td>...</td>\n",
              "      <td>...</td>\n",
              "    </tr>\n",
              "    <tr>\n",
              "      <th>18909</th>\n",
              "      <td>B0016A0RLA</td>\n",
              "      <td>-0.901031</td>\n",
              "    </tr>\n",
              "    <tr>\n",
              "      <th>18910</th>\n",
              "      <td>B00005T3W5</td>\n",
              "      <td>-0.341854</td>\n",
              "    </tr>\n",
              "    <tr>\n",
              "      <th>18911</th>\n",
              "      <td>B00C8OCEC8</td>\n",
              "      <td>-0.653732</td>\n",
              "    </tr>\n",
              "    <tr>\n",
              "      <th>18912</th>\n",
              "      <td>B003JV3XZ6</td>\n",
              "      <td>1.146154</td>\n",
              "    </tr>\n",
              "    <tr>\n",
              "      <th>18913</th>\n",
              "      <td>B002GM5GKO</td>\n",
              "      <td>-0.899744</td>\n",
              "    </tr>\n",
              "  </tbody>\n",
              "</table>\n",
              "<p>18914 rows × 2 columns</p>\n",
              "</div>"
            ],
            "text/plain": [
              "        ProductId  difference\n",
              "0      B000652M6Y   -0.136928\n",
              "1      B005LFT3GG   -0.020234\n",
              "2      B0097CZHAU    0.410787\n",
              "3      B000A0UHXU    0.017283\n",
              "4      B007KEZMX4   -0.135827\n",
              "...           ...         ...\n",
              "18909  B0016A0RLA   -0.901031\n",
              "18910  B00005T3W5   -0.341854\n",
              "18911  B00C8OCEC8   -0.653732\n",
              "18912  B003JV3XZ6    1.146154\n",
              "18913  B002GM5GKO   -0.899744\n",
              "\n",
              "[18914 rows x 2 columns]"
            ]
          },
          "metadata": {
            "tags": []
          },
          "execution_count": 10
        }
      ]
    },
    {
      "cell_type": "markdown",
      "metadata": {
        "id": "h0ydoXyiwIjU"
      },
      "source": [
        "### User"
      ]
    },
    {
      "cell_type": "code",
      "metadata": {
        "id": "tRo-wX5fxwFt",
        "outputId": "18bba2d7-7834-4a7e-f29f-ea2e4f649a15",
        "colab": {
          "base_uri": "https://localhost:8080/"
        }
      },
      "source": [
        "user_unique = test_data.UserId.unique()\n",
        "print(user_unique.shape)\n",
        "print(user_unique)"
      ],
      "execution_count": null,
      "outputs": [
        {
          "output_type": "stream",
          "text": [
            "(17486,)\n",
            "['AFXRO7K3ZZ0PX' 'A37CEYB95LK6R6' 'A26X7W5UM5QFT4' ... 'A39WT90K0MDJD9'\n",
            " 'AZKDLBTHU2BVZ' 'A3A5XNAM3ZW7Z6']\n"
          ],
          "name": "stdout"
        }
      ]
    },
    {
      "cell_type": "code",
      "metadata": {
        "id": "ve5pJuTgyHf6"
      },
      "source": [
        "user_diff = pd.DataFrame({'UserId': user_unique})"
      ],
      "execution_count": null,
      "outputs": []
    },
    {
      "cell_type": "code",
      "metadata": {
        "id": "NYUjWmxzyJrY"
      },
      "source": [
        "user_d = []\n",
        "for user in range(len(user_unique)):\n",
        "  test_user = test_data[test_data['UserId'] == user_unique[user]]\n",
        "  val = test_user['difference'].mean()\n",
        "  user_d.append(val)"
      ],
      "execution_count": null,
      "outputs": []
    },
    {
      "cell_type": "code",
      "metadata": {
        "id": "zNuR29MsyLnO",
        "outputId": "b91e29f8-8504-4f07-bbfc-7790eea477ef",
        "colab": {
          "base_uri": "https://localhost:8080/",
          "height": 419
        }
      },
      "source": [
        "user_diff['difference'] = user_d\n",
        "user_diff"
      ],
      "execution_count": null,
      "outputs": [
        {
          "output_type": "execute_result",
          "data": {
            "text/html": [
              "<div>\n",
              "<style scoped>\n",
              "    .dataframe tbody tr th:only-of-type {\n",
              "        vertical-align: middle;\n",
              "    }\n",
              "\n",
              "    .dataframe tbody tr th {\n",
              "        vertical-align: top;\n",
              "    }\n",
              "\n",
              "    .dataframe thead th {\n",
              "        text-align: right;\n",
              "    }\n",
              "</style>\n",
              "<table border=\"1\" class=\"dataframe\">\n",
              "  <thead>\n",
              "    <tr style=\"text-align: right;\">\n",
              "      <th></th>\n",
              "      <th>UserId</th>\n",
              "      <th>difference</th>\n",
              "    </tr>\n",
              "  </thead>\n",
              "  <tbody>\n",
              "    <tr>\n",
              "      <th>0</th>\n",
              "      <td>AFXRO7K3ZZ0PX</td>\n",
              "      <td>0.044541</td>\n",
              "    </tr>\n",
              "    <tr>\n",
              "      <th>1</th>\n",
              "      <td>A37CEYB95LK6R6</td>\n",
              "      <td>0.315935</td>\n",
              "    </tr>\n",
              "    <tr>\n",
              "      <th>2</th>\n",
              "      <td>A26X7W5UM5QFT4</td>\n",
              "      <td>0.104634</td>\n",
              "    </tr>\n",
              "    <tr>\n",
              "      <th>3</th>\n",
              "      <td>A3GTTWTYAEZUAG</td>\n",
              "      <td>1.082661</td>\n",
              "    </tr>\n",
              "    <tr>\n",
              "      <th>4</th>\n",
              "      <td>A21W2EZ9LA25ST</td>\n",
              "      <td>1.357407</td>\n",
              "    </tr>\n",
              "    <tr>\n",
              "      <th>...</th>\n",
              "      <td>...</td>\n",
              "      <td>...</td>\n",
              "    </tr>\n",
              "    <tr>\n",
              "      <th>17481</th>\n",
              "      <td>A1Y6G2QYH4AZNZ</td>\n",
              "      <td>0.066059</td>\n",
              "    </tr>\n",
              "    <tr>\n",
              "      <th>17482</th>\n",
              "      <td>A1FP2LA6M2OJX0</td>\n",
              "      <td>0.224385</td>\n",
              "    </tr>\n",
              "    <tr>\n",
              "      <th>17483</th>\n",
              "      <td>A39WT90K0MDJD9</td>\n",
              "      <td>0.888254</td>\n",
              "    </tr>\n",
              "    <tr>\n",
              "      <th>17484</th>\n",
              "      <td>AZKDLBTHU2BVZ</td>\n",
              "      <td>-0.618294</td>\n",
              "    </tr>\n",
              "    <tr>\n",
              "      <th>17485</th>\n",
              "      <td>A3A5XNAM3ZW7Z6</td>\n",
              "      <td>-0.016881</td>\n",
              "    </tr>\n",
              "  </tbody>\n",
              "</table>\n",
              "<p>17486 rows × 2 columns</p>\n",
              "</div>"
            ],
            "text/plain": [
              "               UserId  difference\n",
              "0       AFXRO7K3ZZ0PX    0.044541\n",
              "1      A37CEYB95LK6R6    0.315935\n",
              "2      A26X7W5UM5QFT4    0.104634\n",
              "3      A3GTTWTYAEZUAG    1.082661\n",
              "4      A21W2EZ9LA25ST    1.357407\n",
              "...               ...         ...\n",
              "17481  A1Y6G2QYH4AZNZ    0.066059\n",
              "17482  A1FP2LA6M2OJX0    0.224385\n",
              "17483  A39WT90K0MDJD9    0.888254\n",
              "17484   AZKDLBTHU2BVZ   -0.618294\n",
              "17485  A3A5XNAM3ZW7Z6   -0.016881\n",
              "\n",
              "[17486 rows x 2 columns]"
            ]
          },
          "metadata": {
            "tags": []
          },
          "execution_count": 14
        }
      ]
    },
    {
      "cell_type": "code",
      "metadata": {
        "id": "1UbBfcGkyNzl"
      },
      "source": [
        "item_diff.to_csv('drive/My Drive/ubr/ground_truth/bias_item_diff_mean.csv', index=False)\n",
        "user_diff.to_csv('drive/My Drive/ubr/ground_truth/bias_user_diff_mean.csv', index=False)"
      ],
      "execution_count": null,
      "outputs": []
    },
    {
      "cell_type": "markdown",
      "metadata": {
        "id": "ARx7bNm-xLSD"
      },
      "source": [
        "## Frequency distribution of mean difference values\n",
        "\n"
      ]
    },
    {
      "cell_type": "markdown",
      "metadata": {
        "id": "XW1ORU0pXFKc"
      },
      "source": [
        "### Product"
      ]
    },
    {
      "cell_type": "code",
      "metadata": {
        "id": "NyCHZFPoyaKx",
        "outputId": "a0b3bdf1-50e9-45c3-abdb-f4c27630d063",
        "colab": {
          "base_uri": "https://localhost:8080/",
          "height": 312
        }
      },
      "source": [
        "n, bins, patches = plt.hist(x=item_diff['difference'], bins='auto', color='#0504aa',\n",
        "                            alpha=0.7, edgecolor='blue')\n",
        "plt.grid(axis='y', alpha=0.75)\n",
        "plt.xlabel('Difference between score and biased score for item')\n",
        "plt.ylabel('Frequency')\n",
        "plt.title('Item biased-score')"
      ],
      "execution_count": null,
      "outputs": [
        {
          "output_type": "execute_result",
          "data": {
            "text/plain": [
              "Text(0.5, 1.0, 'Item biased-score')"
            ]
          },
          "metadata": {
            "tags": []
          },
          "execution_count": 17
        },
        {
          "output_type": "display_data",
          "data": {
            "image/png": "[encoded data removed]",
            "text/plain": [
              "<Figure size 432x288 with 1 Axes>"
            ]
          },
          "metadata": {
            "tags": [],
            "needs_background": "light"
          }
        }
      ]
    },
    {
      "cell_type": "markdown",
      "metadata": {
        "id": "_iBhHtrhxQyR"
      },
      "source": [
        "### User"
      ]
    },
    {
      "cell_type": "code",
      "metadata": {
        "id": "BVXxwlMuyqGk",
        "outputId": "133abc01-ed26-45cc-d5db-a04b994bd07a",
        "colab": {
          "base_uri": "https://localhost:8080/",
          "height": 312
        }
      },
      "source": [
        "n, bins, patches = plt.hist(x=user_diff['difference'], bins='auto', color='#0504aa',\n",
        "                            alpha=0.7, edgecolor='black')\n",
        "plt.grid(axis='y', alpha=0.75)\n",
        "plt.xlabel('Difference between score and biased score for user')\n",
        "plt.ylabel('Frequency')\n",
        "plt.title('User score-biased')"
      ],
      "execution_count": null,
      "outputs": [
        {
          "output_type": "execute_result",
          "data": {
            "text/plain": [
              "Text(0.5, 1.0, 'User score-biased')"
            ]
          },
          "metadata": {
            "tags": []
          },
          "execution_count": 18
        },
        {
          "output_type": "display_data",
          "data": {
            "image/png": "[encoded data removed]",
            "text/plain": [
              "<Figure size 432x288 with 1 Axes>"
            ]
          },
          "metadata": {
            "tags": [],
            "needs_background": "light"
          }
        }
      ]
    },
    {
      "cell_type": "markdown",
      "metadata": {
        "id": "YztwKJAXXtTZ"
      },
      "source": [
        "## Calculation of the number of users and products with certain average error (difference in predicted and actual review score)"
      ]
    },
    {
      "cell_type": "markdown",
      "metadata": {
        "id": "GRACyTalYIWw"
      },
      "source": [
        "### Error between -0.2 and 0.2"
      ]
    },
    {
      "cell_type": "code",
      "metadata": {
        "id": "IrWWw4iHYfPf",
        "outputId": "6d68d720-3b9b-494c-b58d-9afdfc66a506",
        "colab": {
          "base_uri": "https://localhost:8080/",
          "height": 419
        }
      },
      "source": [
        "bias_item_0d2 = item_diff[(item_diff['difference'] >= -0.2) & (item_diff['difference'] <= 0.2)]\n",
        "bias_item_0d2 = bias_item_0d2.reset_index()\n",
        "bias_item_0d2"
      ],
      "execution_count": null,
      "outputs": [
        {
          "output_type": "execute_result",
          "data": {
            "text/html": [
              "<div>\n",
              "<style scoped>\n",
              "    .dataframe tbody tr th:only-of-type {\n",
              "        vertical-align: middle;\n",
              "    }\n",
              "\n",
              "    .dataframe tbody tr th {\n",
              "        vertical-align: top;\n",
              "    }\n",
              "\n",
              "    .dataframe thead th {\n",
              "        text-align: right;\n",
              "    }\n",
              "</style>\n",
              "<table border=\"1\" class=\"dataframe\">\n",
              "  <thead>\n",
              "    <tr style=\"text-align: right;\">\n",
              "      <th></th>\n",
              "      <th>index</th>\n",
              "      <th>ProductId</th>\n",
              "      <th>difference</th>\n",
              "    </tr>\n",
              "  </thead>\n",
              "  <tbody>\n",
              "    <tr>\n",
              "      <th>0</th>\n",
              "      <td>0</td>\n",
              "      <td>B000652M6Y</td>\n",
              "      <td>-0.136928</td>\n",
              "    </tr>\n",
              "    <tr>\n",
              "      <th>1</th>\n",
              "      <td>1</td>\n",
              "      <td>B005LFT3GG</td>\n",
              "      <td>-0.020234</td>\n",
              "    </tr>\n",
              "    <tr>\n",
              "      <th>2</th>\n",
              "      <td>3</td>\n",
              "      <td>B000A0UHXU</td>\n",
              "      <td>0.017283</td>\n",
              "    </tr>\n",
              "    <tr>\n",
              "      <th>3</th>\n",
              "      <td>4</td>\n",
              "      <td>B007KEZMX4</td>\n",
              "      <td>-0.135827</td>\n",
              "    </tr>\n",
              "    <tr>\n",
              "      <th>4</th>\n",
              "      <td>5</td>\n",
              "      <td>B00DQZRKY0</td>\n",
              "      <td>-0.150716</td>\n",
              "    </tr>\n",
              "    <tr>\n",
              "      <th>...</th>\n",
              "      <td>...</td>\n",
              "      <td>...</td>\n",
              "      <td>...</td>\n",
              "    </tr>\n",
              "    <tr>\n",
              "      <th>5170</th>\n",
              "      <td>18868</td>\n",
              "      <td>B0002J2EPI</td>\n",
              "      <td>-0.056383</td>\n",
              "    </tr>\n",
              "    <tr>\n",
              "      <th>5171</th>\n",
              "      <td>18875</td>\n",
              "      <td>B00001ZT4H</td>\n",
              "      <td>0.154885</td>\n",
              "    </tr>\n",
              "    <tr>\n",
              "      <th>5172</th>\n",
              "      <td>18876</td>\n",
              "      <td>B003XMAD0Y</td>\n",
              "      <td>-0.033834</td>\n",
              "    </tr>\n",
              "    <tr>\n",
              "      <th>5173</th>\n",
              "      <td>18887</td>\n",
              "      <td>B004JWPI9S</td>\n",
              "      <td>-0.152523</td>\n",
              "    </tr>\n",
              "    <tr>\n",
              "      <th>5174</th>\n",
              "      <td>18894</td>\n",
              "      <td>B003BEDRJI</td>\n",
              "      <td>-0.083333</td>\n",
              "    </tr>\n",
              "  </tbody>\n",
              "</table>\n",
              "<p>5175 rows × 3 columns</p>\n",
              "</div>"
            ],
            "text/plain": [
              "      index   ProductId  difference\n",
              "0         0  B000652M6Y   -0.136928\n",
              "1         1  B005LFT3GG   -0.020234\n",
              "2         3  B000A0UHXU    0.017283\n",
              "3         4  B007KEZMX4   -0.135827\n",
              "4         5  B00DQZRKY0   -0.150716\n",
              "...     ...         ...         ...\n",
              "5170  18868  B0002J2EPI   -0.056383\n",
              "5171  18875  B00001ZT4H    0.154885\n",
              "5172  18876  B003XMAD0Y   -0.033834\n",
              "5173  18887  B004JWPI9S   -0.152523\n",
              "5174  18894  B003BEDRJI   -0.083333\n",
              "\n",
              "[5175 rows x 3 columns]"
            ]
          },
          "metadata": {
            "tags": []
          },
          "execution_count": 19
        }
      ]
    },
    {
      "cell_type": "code",
      "metadata": {
        "id": "l-D0gw9hY7Gg",
        "outputId": "08218375-fbbf-466e-d254-5b80a5606a65",
        "colab": {
          "base_uri": "https://localhost:8080/",
          "height": 419
        }
      },
      "source": [
        "bias_user_0d2 = user_diff[(user_diff['difference'] >= -0.2) & (user_diff['difference'] <= 0.2)]\n",
        "bias_user_0d2 = bias_user_0d2.reset_index()\n",
        "bias_user_0d2"
      ],
      "execution_count": null,
      "outputs": [
        {
          "output_type": "execute_result",
          "data": {
            "text/html": [
              "<div>\n",
              "<style scoped>\n",
              "    .dataframe tbody tr th:only-of-type {\n",
              "        vertical-align: middle;\n",
              "    }\n",
              "\n",
              "    .dataframe tbody tr th {\n",
              "        vertical-align: top;\n",
              "    }\n",
              "\n",
              "    .dataframe thead th {\n",
              "        text-align: right;\n",
              "    }\n",
              "</style>\n",
              "<table border=\"1\" class=\"dataframe\">\n",
              "  <thead>\n",
              "    <tr style=\"text-align: right;\">\n",
              "      <th></th>\n",
              "      <th>index</th>\n",
              "      <th>UserId</th>\n",
              "      <th>difference</th>\n",
              "    </tr>\n",
              "  </thead>\n",
              "  <tbody>\n",
              "    <tr>\n",
              "      <th>0</th>\n",
              "      <td>0</td>\n",
              "      <td>AFXRO7K3ZZ0PX</td>\n",
              "      <td>0.044541</td>\n",
              "    </tr>\n",
              "    <tr>\n",
              "      <th>1</th>\n",
              "      <td>2</td>\n",
              "      <td>A26X7W5UM5QFT4</td>\n",
              "      <td>0.104634</td>\n",
              "    </tr>\n",
              "    <tr>\n",
              "      <th>2</th>\n",
              "      <td>8</td>\n",
              "      <td>A4EBYIKOMYFF9</td>\n",
              "      <td>0.013961</td>\n",
              "    </tr>\n",
              "    <tr>\n",
              "      <th>3</th>\n",
              "      <td>9</td>\n",
              "      <td>A3LH77PBDFEO3F</td>\n",
              "      <td>-0.196113</td>\n",
              "    </tr>\n",
              "    <tr>\n",
              "      <th>4</th>\n",
              "      <td>10</td>\n",
              "      <td>A1X4VWM6177NO0</td>\n",
              "      <td>-0.074293</td>\n",
              "    </tr>\n",
              "    <tr>\n",
              "      <th>...</th>\n",
              "      <td>...</td>\n",
              "      <td>...</td>\n",
              "      <td>...</td>\n",
              "    </tr>\n",
              "    <tr>\n",
              "      <th>5247</th>\n",
              "      <td>17468</td>\n",
              "      <td>A2H5YV3L760BF5</td>\n",
              "      <td>-0.076689</td>\n",
              "    </tr>\n",
              "    <tr>\n",
              "      <th>5248</th>\n",
              "      <td>17471</td>\n",
              "      <td>A2XHUR8JIYJ06B</td>\n",
              "      <td>0.113241</td>\n",
              "    </tr>\n",
              "    <tr>\n",
              "      <th>5249</th>\n",
              "      <td>17478</td>\n",
              "      <td>A3RLW85H7EYZR5</td>\n",
              "      <td>0.016660</td>\n",
              "    </tr>\n",
              "    <tr>\n",
              "      <th>5250</th>\n",
              "      <td>17481</td>\n",
              "      <td>A1Y6G2QYH4AZNZ</td>\n",
              "      <td>0.066059</td>\n",
              "    </tr>\n",
              "    <tr>\n",
              "      <th>5251</th>\n",
              "      <td>17485</td>\n",
              "      <td>A3A5XNAM3ZW7Z6</td>\n",
              "      <td>-0.016881</td>\n",
              "    </tr>\n",
              "  </tbody>\n",
              "</table>\n",
              "<p>5252 rows × 3 columns</p>\n",
              "</div>"
            ],
            "text/plain": [
              "      index          UserId  difference\n",
              "0         0   AFXRO7K3ZZ0PX    0.044541\n",
              "1         2  A26X7W5UM5QFT4    0.104634\n",
              "2         8   A4EBYIKOMYFF9    0.013961\n",
              "3         9  A3LH77PBDFEO3F   -0.196113\n",
              "4        10  A1X4VWM6177NO0   -0.074293\n",
              "...     ...             ...         ...\n",
              "5247  17468  A2H5YV3L760BF5   -0.076689\n",
              "5248  17471  A2XHUR8JIYJ06B    0.113241\n",
              "5249  17478  A3RLW85H7EYZR5    0.016660\n",
              "5250  17481  A1Y6G2QYH4AZNZ    0.066059\n",
              "5251  17485  A3A5XNAM3ZW7Z6   -0.016881\n",
              "\n",
              "[5252 rows x 3 columns]"
            ]
          },
          "metadata": {
            "tags": []
          },
          "execution_count": 20
        }
      ]
    },
    {
      "cell_type": "markdown",
      "metadata": {
        "id": "oOzTW12rZhTz"
      },
      "source": [
        "### Error between -0.5 and 0.5"
      ]
    },
    {
      "cell_type": "code",
      "metadata": {
        "id": "9D5hizYWZms8",
        "outputId": "3eadb738-1df7-4775-f557-10c9bf4c53b8",
        "colab": {
          "base_uri": "https://localhost:8080/",
          "height": 419
        }
      },
      "source": [
        "bias_item_0d5 = item_diff[(item_diff['difference'] >= -0.5) & (item_diff['difference'] <= 0.5)]\n",
        "bias_item_0d5 = bias_item_0d5.reset_index()\n",
        "bias_item_0d5"
      ],
      "execution_count": null,
      "outputs": [
        {
          "output_type": "execute_result",
          "data": {
            "text/html": [
              "<div>\n",
              "<style scoped>\n",
              "    .dataframe tbody tr th:only-of-type {\n",
              "        vertical-align: middle;\n",
              "    }\n",
              "\n",
              "    .dataframe tbody tr th {\n",
              "        vertical-align: top;\n",
              "    }\n",
              "\n",
              "    .dataframe thead th {\n",
              "        text-align: right;\n",
              "    }\n",
              "</style>\n",
              "<table border=\"1\" class=\"dataframe\">\n",
              "  <thead>\n",
              "    <tr style=\"text-align: right;\">\n",
              "      <th></th>\n",
              "      <th>index</th>\n",
              "      <th>ProductId</th>\n",
              "      <th>difference</th>\n",
              "    </tr>\n",
              "  </thead>\n",
              "  <tbody>\n",
              "    <tr>\n",
              "      <th>0</th>\n",
              "      <td>0</td>\n",
              "      <td>B000652M6Y</td>\n",
              "      <td>-0.136928</td>\n",
              "    </tr>\n",
              "    <tr>\n",
              "      <th>1</th>\n",
              "      <td>1</td>\n",
              "      <td>B005LFT3GG</td>\n",
              "      <td>-0.020234</td>\n",
              "    </tr>\n",
              "    <tr>\n",
              "      <th>2</th>\n",
              "      <td>2</td>\n",
              "      <td>B0097CZHAU</td>\n",
              "      <td>0.410787</td>\n",
              "    </tr>\n",
              "    <tr>\n",
              "      <th>3</th>\n",
              "      <td>3</td>\n",
              "      <td>B000A0UHXU</td>\n",
              "      <td>0.017283</td>\n",
              "    </tr>\n",
              "    <tr>\n",
              "      <th>4</th>\n",
              "      <td>4</td>\n",
              "      <td>B007KEZMX4</td>\n",
              "      <td>-0.135827</td>\n",
              "    </tr>\n",
              "    <tr>\n",
              "      <th>...</th>\n",
              "      <td>...</td>\n",
              "      <td>...</td>\n",
              "      <td>...</td>\n",
              "    </tr>\n",
              "    <tr>\n",
              "      <th>10702</th>\n",
              "      <td>18889</td>\n",
              "      <td>B0096YOQE2</td>\n",
              "      <td>0.498782</td>\n",
              "    </tr>\n",
              "    <tr>\n",
              "      <th>10703</th>\n",
              "      <td>18894</td>\n",
              "      <td>B003BEDRJI</td>\n",
              "      <td>-0.083333</td>\n",
              "    </tr>\n",
              "    <tr>\n",
              "      <th>10704</th>\n",
              "      <td>18899</td>\n",
              "      <td>B000B753CC</td>\n",
              "      <td>-0.324029</td>\n",
              "    </tr>\n",
              "    <tr>\n",
              "      <th>10705</th>\n",
              "      <td>18904</td>\n",
              "      <td>B009YCTO6Q</td>\n",
              "      <td>-0.267203</td>\n",
              "    </tr>\n",
              "    <tr>\n",
              "      <th>10706</th>\n",
              "      <td>18910</td>\n",
              "      <td>B00005T3W5</td>\n",
              "      <td>-0.341854</td>\n",
              "    </tr>\n",
              "  </tbody>\n",
              "</table>\n",
              "<p>10707 rows × 3 columns</p>\n",
              "</div>"
            ],
            "text/plain": [
              "       index   ProductId  difference\n",
              "0          0  B000652M6Y   -0.136928\n",
              "1          1  B005LFT3GG   -0.020234\n",
              "2          2  B0097CZHAU    0.410787\n",
              "3          3  B000A0UHXU    0.017283\n",
              "4          4  B007KEZMX4   -0.135827\n",
              "...      ...         ...         ...\n",
              "10702  18889  B0096YOQE2    0.498782\n",
              "10703  18894  B003BEDRJI   -0.083333\n",
              "10704  18899  B000B753CC   -0.324029\n",
              "10705  18904  B009YCTO6Q   -0.267203\n",
              "10706  18910  B00005T3W5   -0.341854\n",
              "\n",
              "[10707 rows x 3 columns]"
            ]
          },
          "metadata": {
            "tags": []
          },
          "execution_count": 21
        }
      ]
    },
    {
      "cell_type": "code",
      "metadata": {
        "id": "VLwSot9IZvxq",
        "outputId": "e54b8b66-3dfb-4142-fbdc-6a9302c4596c",
        "colab": {
          "base_uri": "https://localhost:8080/",
          "height": 419
        }
      },
      "source": [
        "bias_user_0d5 = user_diff[(user_diff['difference'] >= -0.5) & (user_diff['difference'] <= 0.5 )]\n",
        "bias_user_0d5 = bias_user_0d5.reset_index()\n",
        "bias_user_0d5"
      ],
      "execution_count": null,
      "outputs": [
        {
          "output_type": "execute_result",
          "data": {
            "text/html": [
              "<div>\n",
              "<style scoped>\n",
              "    .dataframe tbody tr th:only-of-type {\n",
              "        vertical-align: middle;\n",
              "    }\n",
              "\n",
              "    .dataframe tbody tr th {\n",
              "        vertical-align: top;\n",
              "    }\n",
              "\n",
              "    .dataframe thead th {\n",
              "        text-align: right;\n",
              "    }\n",
              "</style>\n",
              "<table border=\"1\" class=\"dataframe\">\n",
              "  <thead>\n",
              "    <tr style=\"text-align: right;\">\n",
              "      <th></th>\n",
              "      <th>index</th>\n",
              "      <th>UserId</th>\n",
              "      <th>difference</th>\n",
              "    </tr>\n",
              "  </thead>\n",
              "  <tbody>\n",
              "    <tr>\n",
              "      <th>0</th>\n",
              "      <td>0</td>\n",
              "      <td>AFXRO7K3ZZ0PX</td>\n",
              "      <td>0.044541</td>\n",
              "    </tr>\n",
              "    <tr>\n",
              "      <th>1</th>\n",
              "      <td>1</td>\n",
              "      <td>A37CEYB95LK6R6</td>\n",
              "      <td>0.315935</td>\n",
              "    </tr>\n",
              "    <tr>\n",
              "      <th>2</th>\n",
              "      <td>2</td>\n",
              "      <td>A26X7W5UM5QFT4</td>\n",
              "      <td>0.104634</td>\n",
              "    </tr>\n",
              "    <tr>\n",
              "      <th>3</th>\n",
              "      <td>5</td>\n",
              "      <td>AQLL2R1PPR46X</td>\n",
              "      <td>0.246131</td>\n",
              "    </tr>\n",
              "    <tr>\n",
              "      <th>4</th>\n",
              "      <td>6</td>\n",
              "      <td>A3866HDI6HMH53</td>\n",
              "      <td>0.313194</td>\n",
              "    </tr>\n",
              "    <tr>\n",
              "      <th>...</th>\n",
              "      <td>...</td>\n",
              "      <td>...</td>\n",
              "      <td>...</td>\n",
              "    </tr>\n",
              "    <tr>\n",
              "      <th>11052</th>\n",
              "      <td>17472</td>\n",
              "      <td>A2G2R6ATW30D28</td>\n",
              "      <td>-0.305687</td>\n",
              "    </tr>\n",
              "    <tr>\n",
              "      <th>11053</th>\n",
              "      <td>17478</td>\n",
              "      <td>A3RLW85H7EYZR5</td>\n",
              "      <td>0.016660</td>\n",
              "    </tr>\n",
              "    <tr>\n",
              "      <th>11054</th>\n",
              "      <td>17481</td>\n",
              "      <td>A1Y6G2QYH4AZNZ</td>\n",
              "      <td>0.066059</td>\n",
              "    </tr>\n",
              "    <tr>\n",
              "      <th>11055</th>\n",
              "      <td>17482</td>\n",
              "      <td>A1FP2LA6M2OJX0</td>\n",
              "      <td>0.224385</td>\n",
              "    </tr>\n",
              "    <tr>\n",
              "      <th>11056</th>\n",
              "      <td>17485</td>\n",
              "      <td>A3A5XNAM3ZW7Z6</td>\n",
              "      <td>-0.016881</td>\n",
              "    </tr>\n",
              "  </tbody>\n",
              "</table>\n",
              "<p>11057 rows × 3 columns</p>\n",
              "</div>"
            ],
            "text/plain": [
              "       index          UserId  difference\n",
              "0          0   AFXRO7K3ZZ0PX    0.044541\n",
              "1          1  A37CEYB95LK6R6    0.315935\n",
              "2          2  A26X7W5UM5QFT4    0.104634\n",
              "3          5   AQLL2R1PPR46X    0.246131\n",
              "4          6  A3866HDI6HMH53    0.313194\n",
              "...      ...             ...         ...\n",
              "11052  17472  A2G2R6ATW30D28   -0.305687\n",
              "11053  17478  A3RLW85H7EYZR5    0.016660\n",
              "11054  17481  A1Y6G2QYH4AZNZ    0.066059\n",
              "11055  17482  A1FP2LA6M2OJX0    0.224385\n",
              "11056  17485  A3A5XNAM3ZW7Z6   -0.016881\n",
              "\n",
              "[11057 rows x 3 columns]"
            ]
          },
          "metadata": {
            "tags": []
          },
          "execution_count": 22
        }
      ]
    },
    {
      "cell_type": "markdown",
      "metadata": {
        "id": "pA5BPI-lZ1vV"
      },
      "source": [
        "### Error between -1.0 and 1.0"
      ]
    },
    {
      "cell_type": "code",
      "metadata": {
        "id": "VLozZszkZ5lZ",
        "outputId": "e1a85e36-911b-472e-e739-3fe56c56e646",
        "colab": {
          "base_uri": "https://localhost:8080/",
          "height": 419
        }
      },
      "source": [
        "bias_item_1 = item_diff[(item_diff['difference'] >= -1.0) & (item_diff['difference'] <= 1.0)]\n",
        "bias_item_1 = bias_item_1.reset_index()\n",
        "bias_item_1"
      ],
      "execution_count": null,
      "outputs": [
        {
          "output_type": "execute_result",
          "data": {
            "text/html": [
              "<div>\n",
              "<style scoped>\n",
              "    .dataframe tbody tr th:only-of-type {\n",
              "        vertical-align: middle;\n",
              "    }\n",
              "\n",
              "    .dataframe tbody tr th {\n",
              "        vertical-align: top;\n",
              "    }\n",
              "\n",
              "    .dataframe thead th {\n",
              "        text-align: right;\n",
              "    }\n",
              "</style>\n",
              "<table border=\"1\" class=\"dataframe\">\n",
              "  <thead>\n",
              "    <tr style=\"text-align: right;\">\n",
              "      <th></th>\n",
              "      <th>index</th>\n",
              "      <th>ProductId</th>\n",
              "      <th>difference</th>\n",
              "    </tr>\n",
              "  </thead>\n",
              "  <tbody>\n",
              "    <tr>\n",
              "      <th>0</th>\n",
              "      <td>0</td>\n",
              "      <td>B000652M6Y</td>\n",
              "      <td>-0.136928</td>\n",
              "    </tr>\n",
              "    <tr>\n",
              "      <th>1</th>\n",
              "      <td>1</td>\n",
              "      <td>B005LFT3GG</td>\n",
              "      <td>-0.020234</td>\n",
              "    </tr>\n",
              "    <tr>\n",
              "      <th>2</th>\n",
              "      <td>2</td>\n",
              "      <td>B0097CZHAU</td>\n",
              "      <td>0.410787</td>\n",
              "    </tr>\n",
              "    <tr>\n",
              "      <th>3</th>\n",
              "      <td>3</td>\n",
              "      <td>B000A0UHXU</td>\n",
              "      <td>0.017283</td>\n",
              "    </tr>\n",
              "    <tr>\n",
              "      <th>4</th>\n",
              "      <td>4</td>\n",
              "      <td>B007KEZMX4</td>\n",
              "      <td>-0.135827</td>\n",
              "    </tr>\n",
              "    <tr>\n",
              "      <th>...</th>\n",
              "      <td>...</td>\n",
              "      <td>...</td>\n",
              "      <td>...</td>\n",
              "    </tr>\n",
              "    <tr>\n",
              "      <th>15324</th>\n",
              "      <td>18907</td>\n",
              "      <td>B004IMEN7C</td>\n",
              "      <td>-0.782583</td>\n",
              "    </tr>\n",
              "    <tr>\n",
              "      <th>15325</th>\n",
              "      <td>18909</td>\n",
              "      <td>B0016A0RLA</td>\n",
              "      <td>-0.901031</td>\n",
              "    </tr>\n",
              "    <tr>\n",
              "      <th>15326</th>\n",
              "      <td>18910</td>\n",
              "      <td>B00005T3W5</td>\n",
              "      <td>-0.341854</td>\n",
              "    </tr>\n",
              "    <tr>\n",
              "      <th>15327</th>\n",
              "      <td>18911</td>\n",
              "      <td>B00C8OCEC8</td>\n",
              "      <td>-0.653732</td>\n",
              "    </tr>\n",
              "    <tr>\n",
              "      <th>15328</th>\n",
              "      <td>18913</td>\n",
              "      <td>B002GM5GKO</td>\n",
              "      <td>-0.899744</td>\n",
              "    </tr>\n",
              "  </tbody>\n",
              "</table>\n",
              "<p>15329 rows × 3 columns</p>\n",
              "</div>"
            ],
            "text/plain": [
              "       index   ProductId  difference\n",
              "0          0  B000652M6Y   -0.136928\n",
              "1          1  B005LFT3GG   -0.020234\n",
              "2          2  B0097CZHAU    0.410787\n",
              "3          3  B000A0UHXU    0.017283\n",
              "4          4  B007KEZMX4   -0.135827\n",
              "...      ...         ...         ...\n",
              "15324  18907  B004IMEN7C   -0.782583\n",
              "15325  18909  B0016A0RLA   -0.901031\n",
              "15326  18910  B00005T3W5   -0.341854\n",
              "15327  18911  B00C8OCEC8   -0.653732\n",
              "15328  18913  B002GM5GKO   -0.899744\n",
              "\n",
              "[15329 rows x 3 columns]"
            ]
          },
          "metadata": {
            "tags": []
          },
          "execution_count": 23
        }
      ]
    },
    {
      "cell_type": "code",
      "metadata": {
        "id": "_DaJRYrIaKQB",
        "outputId": "12f53485-0232-4228-d395-4186a0d1cb91",
        "colab": {
          "base_uri": "https://localhost:8080/",
          "height": 419
        }
      },
      "source": [
        "bias_user_1 = user_diff[(user_diff['difference'] >= -1.0) & (user_diff['difference'] <= 1.0 )]\n",
        "bias_user_1 = bias_user_1.reset_index()\n",
        "bias_user_1"
      ],
      "execution_count": null,
      "outputs": [
        {
          "output_type": "execute_result",
          "data": {
            "text/html": [
              "<div>\n",
              "<style scoped>\n",
              "    .dataframe tbody tr th:only-of-type {\n",
              "        vertical-align: middle;\n",
              "    }\n",
              "\n",
              "    .dataframe tbody tr th {\n",
              "        vertical-align: top;\n",
              "    }\n",
              "\n",
              "    .dataframe thead th {\n",
              "        text-align: right;\n",
              "    }\n",
              "</style>\n",
              "<table border=\"1\" class=\"dataframe\">\n",
              "  <thead>\n",
              "    <tr style=\"text-align: right;\">\n",
              "      <th></th>\n",
              "      <th>index</th>\n",
              "      <th>UserId</th>\n",
              "      <th>difference</th>\n",
              "    </tr>\n",
              "  </thead>\n",
              "  <tbody>\n",
              "    <tr>\n",
              "      <th>0</th>\n",
              "      <td>0</td>\n",
              "      <td>AFXRO7K3ZZ0PX</td>\n",
              "      <td>0.044541</td>\n",
              "    </tr>\n",
              "    <tr>\n",
              "      <th>1</th>\n",
              "      <td>1</td>\n",
              "      <td>A37CEYB95LK6R6</td>\n",
              "      <td>0.315935</td>\n",
              "    </tr>\n",
              "    <tr>\n",
              "      <th>2</th>\n",
              "      <td>2</td>\n",
              "      <td>A26X7W5UM5QFT4</td>\n",
              "      <td>0.104634</td>\n",
              "    </tr>\n",
              "    <tr>\n",
              "      <th>3</th>\n",
              "      <td>5</td>\n",
              "      <td>AQLL2R1PPR46X</td>\n",
              "      <td>0.246131</td>\n",
              "    </tr>\n",
              "    <tr>\n",
              "      <th>4</th>\n",
              "      <td>6</td>\n",
              "      <td>A3866HDI6HMH53</td>\n",
              "      <td>0.313194</td>\n",
              "    </tr>\n",
              "    <tr>\n",
              "      <th>...</th>\n",
              "      <td>...</td>\n",
              "      <td>...</td>\n",
              "      <td>...</td>\n",
              "    </tr>\n",
              "    <tr>\n",
              "      <th>15348</th>\n",
              "      <td>17481</td>\n",
              "      <td>A1Y6G2QYH4AZNZ</td>\n",
              "      <td>0.066059</td>\n",
              "    </tr>\n",
              "    <tr>\n",
              "      <th>15349</th>\n",
              "      <td>17482</td>\n",
              "      <td>A1FP2LA6M2OJX0</td>\n",
              "      <td>0.224385</td>\n",
              "    </tr>\n",
              "    <tr>\n",
              "      <th>15350</th>\n",
              "      <td>17483</td>\n",
              "      <td>A39WT90K0MDJD9</td>\n",
              "      <td>0.888254</td>\n",
              "    </tr>\n",
              "    <tr>\n",
              "      <th>15351</th>\n",
              "      <td>17484</td>\n",
              "      <td>AZKDLBTHU2BVZ</td>\n",
              "      <td>-0.618294</td>\n",
              "    </tr>\n",
              "    <tr>\n",
              "      <th>15352</th>\n",
              "      <td>17485</td>\n",
              "      <td>A3A5XNAM3ZW7Z6</td>\n",
              "      <td>-0.016881</td>\n",
              "    </tr>\n",
              "  </tbody>\n",
              "</table>\n",
              "<p>15353 rows × 3 columns</p>\n",
              "</div>"
            ],
            "text/plain": [
              "       index          UserId  difference\n",
              "0          0   AFXRO7K3ZZ0PX    0.044541\n",
              "1          1  A37CEYB95LK6R6    0.315935\n",
              "2          2  A26X7W5UM5QFT4    0.104634\n",
              "3          5   AQLL2R1PPR46X    0.246131\n",
              "4          6  A3866HDI6HMH53    0.313194\n",
              "...      ...             ...         ...\n",
              "15348  17481  A1Y6G2QYH4AZNZ    0.066059\n",
              "15349  17482  A1FP2LA6M2OJX0    0.224385\n",
              "15350  17483  A39WT90K0MDJD9    0.888254\n",
              "15351  17484   AZKDLBTHU2BVZ   -0.618294\n",
              "15352  17485  A3A5XNAM3ZW7Z6   -0.016881\n",
              "\n",
              "[15353 rows x 3 columns]"
            ]
          },
          "metadata": {
            "tags": []
          },
          "execution_count": 24
        }
      ]
    },
    {
      "cell_type": "markdown",
      "metadata": {
        "id": "4cpAwX8gaWvu"
      },
      "source": [
        "### Error greater than absolute value of 2"
      ]
    },
    {
      "cell_type": "code",
      "metadata": {
        "id": "Ula9gNbWyyQR",
        "outputId": "a47c0305-8f3e-4832-9b4f-8ccae32084cf",
        "colab": {
          "base_uri": "https://localhost:8080/",
          "height": 419
        }
      },
      "source": [
        "high_bias_item = item_diff[(item_diff['difference'] >= 2) | (item_diff['difference'] <= -2)]\n",
        "high_bias_item = high_bias_item.reset_index()\n",
        "high_bias_item"
      ],
      "execution_count": null,
      "outputs": [
        {
          "output_type": "execute_result",
          "data": {
            "text/html": [
              "<div>\n",
              "<style scoped>\n",
              "    .dataframe tbody tr th:only-of-type {\n",
              "        vertical-align: middle;\n",
              "    }\n",
              "\n",
              "    .dataframe tbody tr th {\n",
              "        vertical-align: top;\n",
              "    }\n",
              "\n",
              "    .dataframe thead th {\n",
              "        text-align: right;\n",
              "    }\n",
              "</style>\n",
              "<table border=\"1\" class=\"dataframe\">\n",
              "  <thead>\n",
              "    <tr style=\"text-align: right;\">\n",
              "      <th></th>\n",
              "      <th>index</th>\n",
              "      <th>ProductId</th>\n",
              "      <th>difference</th>\n",
              "    </tr>\n",
              "  </thead>\n",
              "  <tbody>\n",
              "    <tr>\n",
              "      <th>0</th>\n",
              "      <td>239</td>\n",
              "      <td>B003EE8OL6</td>\n",
              "      <td>3.264515</td>\n",
              "    </tr>\n",
              "    <tr>\n",
              "      <th>1</th>\n",
              "      <td>279</td>\n",
              "      <td>B001KEBR0C</td>\n",
              "      <td>-2.060034</td>\n",
              "    </tr>\n",
              "    <tr>\n",
              "      <th>2</th>\n",
              "      <td>284</td>\n",
              "      <td>B000VKEFMS</td>\n",
              "      <td>2.958084</td>\n",
              "    </tr>\n",
              "    <tr>\n",
              "      <th>3</th>\n",
              "      <td>423</td>\n",
              "      <td>B007ODZYRK</td>\n",
              "      <td>-2.169134</td>\n",
              "    </tr>\n",
              "    <tr>\n",
              "      <th>4</th>\n",
              "      <td>442</td>\n",
              "      <td>B005I19YHG</td>\n",
              "      <td>-2.034481</td>\n",
              "    </tr>\n",
              "    <tr>\n",
              "      <th>...</th>\n",
              "      <td>...</td>\n",
              "      <td>...</td>\n",
              "      <td>...</td>\n",
              "    </tr>\n",
              "    <tr>\n",
              "      <th>783</th>\n",
              "      <td>18856</td>\n",
              "      <td>B0021Y27HW</td>\n",
              "      <td>-2.330511</td>\n",
              "    </tr>\n",
              "    <tr>\n",
              "      <th>784</th>\n",
              "      <td>18858</td>\n",
              "      <td>B000V1VG4W</td>\n",
              "      <td>2.444444</td>\n",
              "    </tr>\n",
              "    <tr>\n",
              "      <th>785</th>\n",
              "      <td>18877</td>\n",
              "      <td>B0000DF2LT</td>\n",
              "      <td>-2.519831</td>\n",
              "    </tr>\n",
              "    <tr>\n",
              "      <th>786</th>\n",
              "      <td>18897</td>\n",
              "      <td>B0001YFZ46</td>\n",
              "      <td>-3.118174</td>\n",
              "    </tr>\n",
              "    <tr>\n",
              "      <th>787</th>\n",
              "      <td>18898</td>\n",
              "      <td>B00BKXCKPO</td>\n",
              "      <td>2.578003</td>\n",
              "    </tr>\n",
              "  </tbody>\n",
              "</table>\n",
              "<p>788 rows × 3 columns</p>\n",
              "</div>"
            ],
            "text/plain": [
              "     index   ProductId  difference\n",
              "0      239  B003EE8OL6    3.264515\n",
              "1      279  B001KEBR0C   -2.060034\n",
              "2      284  B000VKEFMS    2.958084\n",
              "3      423  B007ODZYRK   -2.169134\n",
              "4      442  B005I19YHG   -2.034481\n",
              "..     ...         ...         ...\n",
              "783  18856  B0021Y27HW   -2.330511\n",
              "784  18858  B000V1VG4W    2.444444\n",
              "785  18877  B0000DF2LT   -2.519831\n",
              "786  18897  B0001YFZ46   -3.118174\n",
              "787  18898  B00BKXCKPO    2.578003\n",
              "\n",
              "[788 rows x 3 columns]"
            ]
          },
          "metadata": {
            "tags": []
          },
          "execution_count": 25
        }
      ]
    },
    {
      "cell_type": "code",
      "metadata": {
        "id": "O-WdQKCjy0Z7",
        "outputId": "8404efcc-617e-4f40-ad09-8209fb5a121f",
        "colab": {
          "base_uri": "https://localhost:8080/",
          "height": 419
        }
      },
      "source": [
        "high_bias_user = user_diff[(user_diff['difference'] >= 2) | (user_diff['difference'] <= -2)]\n",
        "high_bias_user = high_bias_user.reset_index()\n",
        "high_bias_user"
      ],
      "execution_count": null,
      "outputs": [
        {
          "output_type": "execute_result",
          "data": {
            "text/html": [
              "<div>\n",
              "<style scoped>\n",
              "    .dataframe tbody tr th:only-of-type {\n",
              "        vertical-align: middle;\n",
              "    }\n",
              "\n",
              "    .dataframe tbody tr th {\n",
              "        vertical-align: top;\n",
              "    }\n",
              "\n",
              "    .dataframe thead th {\n",
              "        text-align: right;\n",
              "    }\n",
              "</style>\n",
              "<table border=\"1\" class=\"dataframe\">\n",
              "  <thead>\n",
              "    <tr style=\"text-align: right;\">\n",
              "      <th></th>\n",
              "      <th>index</th>\n",
              "      <th>UserId</th>\n",
              "      <th>difference</th>\n",
              "    </tr>\n",
              "  </thead>\n",
              "  <tbody>\n",
              "    <tr>\n",
              "      <th>0</th>\n",
              "      <td>115</td>\n",
              "      <td>A5RR61HYYIV95</td>\n",
              "      <td>2.125265</td>\n",
              "    </tr>\n",
              "    <tr>\n",
              "      <th>1</th>\n",
              "      <td>599</td>\n",
              "      <td>A18R50B4PS1Z5X</td>\n",
              "      <td>3.773966</td>\n",
              "    </tr>\n",
              "    <tr>\n",
              "      <th>2</th>\n",
              "      <td>785</td>\n",
              "      <td>A1I3NEAHH2C1FE</td>\n",
              "      <td>2.177163</td>\n",
              "    </tr>\n",
              "    <tr>\n",
              "      <th>3</th>\n",
              "      <td>916</td>\n",
              "      <td>A3OUB6TS8M1SV4</td>\n",
              "      <td>2.079347</td>\n",
              "    </tr>\n",
              "    <tr>\n",
              "      <th>4</th>\n",
              "      <td>1378</td>\n",
              "      <td>A28D4HL7OXSMJD</td>\n",
              "      <td>2.526782</td>\n",
              "    </tr>\n",
              "    <tr>\n",
              "      <th>...</th>\n",
              "      <td>...</td>\n",
              "      <td>...</td>\n",
              "      <td>...</td>\n",
              "    </tr>\n",
              "    <tr>\n",
              "      <th>281</th>\n",
              "      <td>17443</td>\n",
              "      <td>A1P7MAO0LW6HCZ</td>\n",
              "      <td>3.000000</td>\n",
              "    </tr>\n",
              "    <tr>\n",
              "      <th>282</th>\n",
              "      <td>17444</td>\n",
              "      <td>A22EY8Q0PMWEBM</td>\n",
              "      <td>2.205690</td>\n",
              "    </tr>\n",
              "    <tr>\n",
              "      <th>283</th>\n",
              "      <td>17466</td>\n",
              "      <td>A1VHQGNOR8YCFL</td>\n",
              "      <td>-5.060188</td>\n",
              "    </tr>\n",
              "    <tr>\n",
              "      <th>284</th>\n",
              "      <td>17473</td>\n",
              "      <td>A1K1LQ2CDQLR3T</td>\n",
              "      <td>2.375000</td>\n",
              "    </tr>\n",
              "    <tr>\n",
              "      <th>285</th>\n",
              "      <td>17474</td>\n",
              "      <td>A2AOB5EFWI6SI7</td>\n",
              "      <td>3.458370</td>\n",
              "    </tr>\n",
              "  </tbody>\n",
              "</table>\n",
              "<p>286 rows × 3 columns</p>\n",
              "</div>"
            ],
            "text/plain": [
              "     index          UserId  difference\n",
              "0      115   A5RR61HYYIV95    2.125265\n",
              "1      599  A18R50B4PS1Z5X    3.773966\n",
              "2      785  A1I3NEAHH2C1FE    2.177163\n",
              "3      916  A3OUB6TS8M1SV4    2.079347\n",
              "4     1378  A28D4HL7OXSMJD    2.526782\n",
              "..     ...             ...         ...\n",
              "281  17443  A1P7MAO0LW6HCZ    3.000000\n",
              "282  17444  A22EY8Q0PMWEBM    2.205690\n",
              "283  17466  A1VHQGNOR8YCFL   -5.060188\n",
              "284  17473  A1K1LQ2CDQLR3T    2.375000\n",
              "285  17474  A2AOB5EFWI6SI7    3.458370\n",
              "\n",
              "[286 rows x 3 columns]"
            ]
          },
          "metadata": {
            "tags": []
          },
          "execution_count": 26
        }
      ]
    },
    {
      "cell_type": "markdown",
      "metadata": {
        "id": "zXyvqU5ga-F2"
      },
      "source": [
        "# Anomaly detection\n",
        "### High error (absolute value greater than 2)"
      ]
    },
    {
      "cell_type": "code",
      "metadata": {
        "id": "z_tMTHxahgwH"
      },
      "source": [
        "user_item_pair_list_an = []\n",
        "for i in range(len(high_bias_user)):\n",
        "  for j in range(len(high_bias_item)):\n",
        "    if ((test_data['UserId'] == high_bias_user['UserId'][i]) & (test_data['ProductId'] == high_bias_item['ProductId'][j])).any() == True:\n",
        "      temp = test_data[(test_data['UserId'] == high_bias_user['UserId'][i]) & (test_data['ProductId'] == high_bias_item['ProductId'][j])]\n",
        "      temp = temp.values.tolist()\n",
        "      user_item_pair_list_an.append(temp)"
      ],
      "execution_count": null,
      "outputs": []
    },
    {
      "cell_type": "code",
      "metadata": {
        "id": "9VhQEYVBhx03",
        "outputId": "2322dc10-3ef0-4b4b-ce27-b9d275caffcb",
        "colab": {
          "base_uri": "https://localhost:8080/",
          "height": 204
        }
      },
      "source": [
        "user_item_pair_an_np = np.array(user_item_pair_list_an)\n",
        "user_item_pair_an_np = user_item_pair_an_np.reshape(len(user_item_pair_list_an),8)\n",
        "user_item_pair_an = pd.DataFrame(user_item_pair_an_np)\n",
        "user_item_pair_an.columns = ['ProductId', 'UserId', 'Summary', 'Text', 'Score', 'Unbiased_Score', 'Biased_Score', 'difference']\n",
        "user_item_pair_an.tail()"
      ],
      "execution_count": null,
      "outputs": [
        {
          "output_type": "execute_result",
          "data": {
            "text/html": [
              "<div>\n",
              "<style scoped>\n",
              "    .dataframe tbody tr th:only-of-type {\n",
              "        vertical-align: middle;\n",
              "    }\n",
              "\n",
              "    .dataframe tbody tr th {\n",
              "        vertical-align: top;\n",
              "    }\n",
              "\n",
              "    .dataframe thead th {\n",
              "        text-align: right;\n",
              "    }\n",
              "</style>\n",
              "<table border=\"1\" class=\"dataframe\">\n",
              "  <thead>\n",
              "    <tr style=\"text-align: right;\">\n",
              "      <th></th>\n",
              "      <th>ProductId</th>\n",
              "      <th>UserId</th>\n",
              "      <th>Summary</th>\n",
              "      <th>Text</th>\n",
              "      <th>Score</th>\n",
              "      <th>Unbiased_Score</th>\n",
              "      <th>Biased_Score</th>\n",
              "      <th>difference</th>\n",
              "    </tr>\n",
              "  </thead>\n",
              "  <tbody>\n",
              "    <tr>\n",
              "      <th>65</th>\n",
              "      <td>B005FDOG6G</td>\n",
              "      <td>AJ8AQG2X9JJ2Y</td>\n",
              "      <td>b' energi effici high perform headphon'</td>\n",
              "      <td>b' i do a lot of research befor buy these earb...</td>\n",
              "      <td>5.0</td>\n",
              "      <td>2.685757575757576</td>\n",
              "      <td>2.751443850267381</td>\n",
              "      <td>-2.248556149732619</td>\n",
              "    </tr>\n",
              "    <tr>\n",
              "      <th>66</th>\n",
              "      <td>B00AWLEAH6</td>\n",
              "      <td>A1S8QBVVAG2WNB</td>\n",
              "      <td>b' meelectron s good'</td>\n",
              "      <td>b' to those folk who comment that the bass of ...</td>\n",
              "      <td>2.0</td>\n",
              "      <td>3.6838920119472</td>\n",
              "      <td>4.057426622896304</td>\n",
              "      <td>2.057426622896304</td>\n",
              "    </tr>\n",
              "    <tr>\n",
              "      <th>67</th>\n",
              "      <td>B004A82UI8</td>\n",
              "      <td>APT5IIOFA93K6</td>\n",
              "      <td>b' a pretti face noth much els'</td>\n",
              "      <td>b' i upgrad from my t which i have be enjoy fo...</td>\n",
              "      <td>1.0</td>\n",
              "      <td>3.4298976885183783</td>\n",
              "      <td>3.5033546575128733</td>\n",
              "      <td>2.5033546575128733</td>\n",
              "    </tr>\n",
              "    <tr>\n",
              "      <th>68</th>\n",
              "      <td>B00DQGIHZ0</td>\n",
              "      <td>A3KWLE7H7QYUOJ</td>\n",
              "      <td>b' lousi'</td>\n",
              "      <td>b' i buy a warranti for my kindl when i file a...</td>\n",
              "      <td>1.0</td>\n",
              "      <td>5.3472157152775965</td>\n",
              "      <td>5.043401964409701</td>\n",
              "      <td>4.043401964409701</td>\n",
              "    </tr>\n",
              "    <tr>\n",
              "      <th>69</th>\n",
              "      <td>B0064J75IQ</td>\n",
              "      <td>A1VHQGNOR8YCFL</td>\n",
              "      <td>b' usual vantec high qualiti'</td>\n",
              "      <td>b' clever gadget $ give new life to my laci ne...</td>\n",
              "      <td>5.0</td>\n",
              "      <td>-0.552507182739741</td>\n",
              "      <td>-0.06018756437361029</td>\n",
              "      <td>-5.06018756437361</td>\n",
              "    </tr>\n",
              "  </tbody>\n",
              "</table>\n",
              "</div>"
            ],
            "text/plain": [
              "     ProductId          UserId  ...          Biased_Score          difference\n",
              "65  B005FDOG6G   AJ8AQG2X9JJ2Y  ...     2.751443850267381  -2.248556149732619\n",
              "66  B00AWLEAH6  A1S8QBVVAG2WNB  ...     4.057426622896304   2.057426622896304\n",
              "67  B004A82UI8   APT5IIOFA93K6  ...    3.5033546575128733  2.5033546575128733\n",
              "68  B00DQGIHZ0  A3KWLE7H7QYUOJ  ...     5.043401964409701   4.043401964409701\n",
              "69  B0064J75IQ  A1VHQGNOR8YCFL  ...  -0.06018756437361029   -5.06018756437361\n",
              "\n",
              "[5 rows x 8 columns]"
            ]
          },
          "metadata": {
            "tags": []
          },
          "execution_count": 28
        }
      ]
    },
    {
      "cell_type": "code",
      "metadata": {
        "id": "VZ_A1CeIiuuv"
      },
      "source": [
        "user_item_pair_an.to_csv('drive/My Drive/ubr/ground_truth/Bias_anomaly_inference.csv', index=False)"
      ],
      "execution_count": null,
      "outputs": []
    },
    {
      "cell_type": "markdown",
      "metadata": {
        "id": "cuatm64WbC_e"
      },
      "source": [
        "# Analysis of discrepancy in bias present in review text and review score\n",
        "### We picked user and products having very small mean error rate (between -0.02 and 0.02); Noted ambiguous review text with consistent bias in review rating"
      ]
    },
    {
      "cell_type": "code",
      "metadata": {
        "id": "Qmt57ONZMLC2",
        "outputId": "54d96cef-9bfa-437a-b420-b6d6da3f61e4",
        "colab": {
          "base_uri": "https://localhost:8080/",
          "height": 204
        }
      },
      "source": [
        "bias_item = item_diff[(item_diff['difference'] >= -0.02) & (item_diff['difference'] <= 0.02)]\n",
        "bias_item = bias_item.reset_index()\n",
        "bias_item.tail()"
      ],
      "execution_count": null,
      "outputs": [
        {
          "output_type": "execute_result",
          "data": {
            "text/html": [
              "<div>\n",
              "<style scoped>\n",
              "    .dataframe tbody tr th:only-of-type {\n",
              "        vertical-align: middle;\n",
              "    }\n",
              "\n",
              "    .dataframe tbody tr th {\n",
              "        vertical-align: top;\n",
              "    }\n",
              "\n",
              "    .dataframe thead th {\n",
              "        text-align: right;\n",
              "    }\n",
              "</style>\n",
              "<table border=\"1\" class=\"dataframe\">\n",
              "  <thead>\n",
              "    <tr style=\"text-align: right;\">\n",
              "      <th></th>\n",
              "      <th>index</th>\n",
              "      <th>ProductId</th>\n",
              "      <th>difference</th>\n",
              "    </tr>\n",
              "  </thead>\n",
              "  <tbody>\n",
              "    <tr>\n",
              "      <th>556</th>\n",
              "      <td>18704</td>\n",
              "      <td>B003EYVEZE</td>\n",
              "      <td>-0.018729</td>\n",
              "    </tr>\n",
              "    <tr>\n",
              "      <th>557</th>\n",
              "      <td>18723</td>\n",
              "      <td>B001DFS4AE</td>\n",
              "      <td>0.000000</td>\n",
              "    </tr>\n",
              "    <tr>\n",
              "      <th>558</th>\n",
              "      <td>18812</td>\n",
              "      <td>B000V6GQCE</td>\n",
              "      <td>-0.007076</td>\n",
              "    </tr>\n",
              "    <tr>\n",
              "      <th>559</th>\n",
              "      <td>18826</td>\n",
              "      <td>B007G5L54C</td>\n",
              "      <td>-0.013900</td>\n",
              "    </tr>\n",
              "    <tr>\n",
              "      <th>560</th>\n",
              "      <td>18845</td>\n",
              "      <td>B004CTBYGE</td>\n",
              "      <td>0.000000</td>\n",
              "    </tr>\n",
              "  </tbody>\n",
              "</table>\n",
              "</div>"
            ],
            "text/plain": [
              "     index   ProductId  difference\n",
              "556  18704  B003EYVEZE   -0.018729\n",
              "557  18723  B001DFS4AE    0.000000\n",
              "558  18812  B000V6GQCE   -0.007076\n",
              "559  18826  B007G5L54C   -0.013900\n",
              "560  18845  B004CTBYGE    0.000000"
            ]
          },
          "metadata": {
            "tags": []
          },
          "execution_count": 30
        }
      ]
    },
    {
      "cell_type": "code",
      "metadata": {
        "id": "JnVDQrByMb0k",
        "outputId": "7073358c-79f9-4478-9fa6-993fa5a531f5",
        "colab": {
          "base_uri": "https://localhost:8080/",
          "height": 204
        }
      },
      "source": [
        "bias_user = user_diff[(user_diff['difference'] >= -0.02) & (user_diff['difference'] <= 0.02)]\n",
        "bias_user = bias_user.reset_index()\n",
        "bias_user.tail()"
      ],
      "execution_count": null,
      "outputs": [
        {
          "output_type": "execute_result",
          "data": {
            "text/html": [
              "<div>\n",
              "<style scoped>\n",
              "    .dataframe tbody tr th:only-of-type {\n",
              "        vertical-align: middle;\n",
              "    }\n",
              "\n",
              "    .dataframe tbody tr th {\n",
              "        vertical-align: top;\n",
              "    }\n",
              "\n",
              "    .dataframe thead th {\n",
              "        text-align: right;\n",
              "    }\n",
              "</style>\n",
              "<table border=\"1\" class=\"dataframe\">\n",
              "  <thead>\n",
              "    <tr style=\"text-align: right;\">\n",
              "      <th></th>\n",
              "      <th>index</th>\n",
              "      <th>UserId</th>\n",
              "      <th>difference</th>\n",
              "    </tr>\n",
              "  </thead>\n",
              "  <tbody>\n",
              "    <tr>\n",
              "      <th>590</th>\n",
              "      <td>17327</td>\n",
              "      <td>A1LW93HGONNQUU</td>\n",
              "      <td>0.016753</td>\n",
              "    </tr>\n",
              "    <tr>\n",
              "      <th>591</th>\n",
              "      <td>17384</td>\n",
              "      <td>A1P3RTQKM8BRBL</td>\n",
              "      <td>0.011905</td>\n",
              "    </tr>\n",
              "    <tr>\n",
              "      <th>592</th>\n",
              "      <td>17412</td>\n",
              "      <td>A1N50A9TCGTTLZ</td>\n",
              "      <td>-0.005613</td>\n",
              "    </tr>\n",
              "    <tr>\n",
              "      <th>593</th>\n",
              "      <td>17478</td>\n",
              "      <td>A3RLW85H7EYZR5</td>\n",
              "      <td>0.016660</td>\n",
              "    </tr>\n",
              "    <tr>\n",
              "      <th>594</th>\n",
              "      <td>17485</td>\n",
              "      <td>A3A5XNAM3ZW7Z6</td>\n",
              "      <td>-0.016881</td>\n",
              "    </tr>\n",
              "  </tbody>\n",
              "</table>\n",
              "</div>"
            ],
            "text/plain": [
              "     index          UserId  difference\n",
              "590  17327  A1LW93HGONNQUU    0.016753\n",
              "591  17384  A1P3RTQKM8BRBL    0.011905\n",
              "592  17412  A1N50A9TCGTTLZ   -0.005613\n",
              "593  17478  A3RLW85H7EYZR5    0.016660\n",
              "594  17485  A3A5XNAM3ZW7Z6   -0.016881"
            ]
          },
          "metadata": {
            "tags": []
          },
          "execution_count": 31
        }
      ]
    },
    {
      "cell_type": "markdown",
      "metadata": {
        "id": "edhxYOhF1DC6"
      },
      "source": [
        "### Selection of all the tuples whose users and products have mean error less than an absolute value of 0.02"
      ]
    },
    {
      "cell_type": "code",
      "metadata": {
        "id": "y0WwM7TRzgvV"
      },
      "source": [
        "user_item_pair_list = []\n",
        "for i in range(len(bias_user)):\n",
        "  for j in range(len(bias_item)):\n",
        "    if ((test_data['UserId'] == bias_user['UserId'][i]) & (test_data['ProductId'] == bias_item['ProductId'][j])).any() == True:\n",
        "      temp = test_data[(test_data['UserId'] == bias_user['UserId'][i]) & (test_data['ProductId'] == bias_item['ProductId'][j])]\n",
        "      temp = temp.values.tolist()\n",
        "      user_item_pair_list.append(temp)"
      ],
      "execution_count": null,
      "outputs": []
    },
    {
      "cell_type": "code",
      "metadata": {
        "id": "pVJJrF4MzrcM",
        "outputId": "0937f972-3aa2-475f-d9a5-062a70d66e8a",
        "colab": {
          "base_uri": "https://localhost:8080/"
        }
      },
      "source": [
        "user_item_pair_np = np.array(user_item_pair_list)\n",
        "user_item_pair_np = user_item_pair_np.reshape(len(user_item_pair_list),8)\n",
        "user_item_pair = pd.DataFrame(user_item_pair_np)\n",
        "user_item_pair.columns = ['ProductId', 'UserId', 'Summary', 'Text', 'Score', 'Unbiased_Score', 'Biased_Score', 'difference']\n",
        "user_item_pair"
      ],
      "execution_count": null,
      "outputs": [
        {
          "output_type": "execute_result",
          "data": {
            "text/html": [
              "<div>\n",
              "<style scoped>\n",
              "    .dataframe tbody tr th:only-of-type {\n",
              "        vertical-align: middle;\n",
              "    }\n",
              "\n",
              "    .dataframe tbody tr th {\n",
              "        vertical-align: top;\n",
              "    }\n",
              "\n",
              "    .dataframe thead th {\n",
              "        text-align: right;\n",
              "    }\n",
              "</style>\n",
              "<table border=\"1\" class=\"dataframe\">\n",
              "  <thead>\n",
              "    <tr style=\"text-align: right;\">\n",
              "      <th></th>\n",
              "      <th>ProductId</th>\n",
              "      <th>UserId</th>\n",
              "      <th>Summary</th>\n",
              "      <th>Text</th>\n",
              "      <th>Score</th>\n",
              "      <th>Unbiased_Score</th>\n",
              "      <th>Biased_Score</th>\n",
              "      <th>difference</th>\n",
              "    </tr>\n",
              "  </thead>\n",
              "  <tbody>\n",
              "    <tr>\n",
              "      <th>0</th>\n",
              "      <td>B004HB2X4Y</td>\n",
              "      <td>A2T3S3VTW65VO5</td>\n",
              "      <td>b' doe a good job but no miracl'</td>\n",
              "      <td>b' i have an antenna on my boat so there reall...</td>\n",
              "      <td>4.0</td>\n",
              "      <td>3.003571756219624</td>\n",
              "      <td>3.0309655935879105</td>\n",
              "      <td>-0.9690344064120895</td>\n",
              "    </tr>\n",
              "    <tr>\n",
              "      <th>1</th>\n",
              "      <td>B006DDT6JO</td>\n",
              "      <td>A2NB2E5DXE319Z</td>\n",
              "      <td>b' super fast even with usb'</td>\n",
              "      <td>b' it s long past the time that i have marvel ...</td>\n",
              "      <td>5.0</td>\n",
              "      <td>4.934996502743154</td>\n",
              "      <td>4.80412116478112</td>\n",
              "      <td>-0.19587883521888028</td>\n",
              "    </tr>\n",
              "    <tr>\n",
              "      <th>2</th>\n",
              "      <td>B0036ORCHG</td>\n",
              "      <td>A2NB2E5DXE319Z</td>\n",
              "      <td>b' veri nice construct'</td>\n",
              "      <td>b' have purchas a veri tall case antec p for m...</td>\n",
              "      <td>5.0</td>\n",
              "      <td>4.996421564168215</td>\n",
              "      <td>4.8364628177701725</td>\n",
              "      <td>-0.1635371822298275</td>\n",
              "    </tr>\n",
              "    <tr>\n",
              "      <th>3</th>\n",
              "      <td>B001VKY7WU</td>\n",
              "      <td>AL42PIIG5DXYD</td>\n",
              "      <td>b' be ok'</td>\n",
              "      <td>b' within the first year a processor go bad $ ...</td>\n",
              "      <td>4.0</td>\n",
              "      <td>3.9325855732445705</td>\n",
              "      <td>4.097560815143162</td>\n",
              "      <td>0.0975608151431624</td>\n",
              "    </tr>\n",
              "    <tr>\n",
              "      <th>4</th>\n",
              "      <td>B003VAHYTG</td>\n",
              "      <td>A112E6NE5MGEFM</td>\n",
              "      <td>b' logitech speaker system z'</td>\n",
              "      <td>b' logitech speaker system z $ wow z thank to ...</td>\n",
              "      <td>5.0</td>\n",
              "      <td>5.153401825067959</td>\n",
              "      <td>4.94490268361298</td>\n",
              "      <td>-0.055097316387019646</td>\n",
              "    </tr>\n",
              "    <tr>\n",
              "      <th>...</th>\n",
              "      <td>...</td>\n",
              "      <td>...</td>\n",
              "      <td>...</td>\n",
              "      <td>...</td>\n",
              "      <td>...</td>\n",
              "      <td>...</td>\n",
              "      <td>...</td>\n",
              "      <td>...</td>\n",
              "    </tr>\n",
              "    <tr>\n",
              "      <th>161</th>\n",
              "      <td>B005FYNSPK</td>\n",
              "      <td>A27LEATCCMJJF4</td>\n",
              "      <td>b' work fine on mac'</td>\n",
              "      <td>b' just plug and play $ the encrypt util be aw...</td>\n",
              "      <td>4.0</td>\n",
              "      <td>4.288586570768162</td>\n",
              "      <td>4.179956726365004</td>\n",
              "      <td>0.17995672636500437</td>\n",
              "    </tr>\n",
              "    <tr>\n",
              "      <th>162</th>\n",
              "      <td>B00000J1V5</td>\n",
              "      <td>A2X435VE2DGZFG</td>\n",
              "      <td>b' the price be right'</td>\n",
              "      <td>b' don t care about color the cord be hide $ j...</td>\n",
              "      <td>5.0</td>\n",
              "      <td>5.438668450169039</td>\n",
              "      <td>5.330421939622406</td>\n",
              "      <td>0.33042193962240596</td>\n",
              "    </tr>\n",
              "    <tr>\n",
              "      <th>163</th>\n",
              "      <td>B00CM9K7E6</td>\n",
              "      <td>A1HL0V61O8Q0JK</td>\n",
              "      <td>b' one of the best na unit i have purchas'</td>\n",
              "      <td>b' great na drive and softwar be veri good $ m...</td>\n",
              "      <td>5.0</td>\n",
              "      <td>5.1010865074774845</td>\n",
              "      <td>5.016108953702941</td>\n",
              "      <td>0.01610895370294063</td>\n",
              "    </tr>\n",
              "    <tr>\n",
              "      <th>164</th>\n",
              "      <td>B0040723AO</td>\n",
              "      <td>A226GFM0Q9L37H</td>\n",
              "      <td>b' favorit surg protector defin will purchas m...</td>\n",
              "      <td>b' we have a ton of power strip but over time ...</td>\n",
              "      <td>5.0</td>\n",
              "      <td>5.0926178405994325</td>\n",
              "      <td>4.979196961620128</td>\n",
              "      <td>-0.02080303837987163</td>\n",
              "    </tr>\n",
              "    <tr>\n",
              "      <th>165</th>\n",
              "      <td>B003LHUQQ2</td>\n",
              "      <td>AU4M0Y5FB249U</td>\n",
              "      <td>b' long term replac still work'</td>\n",
              "      <td>b' i purchas thi adapt sinc the wire in the ti...</td>\n",
              "      <td>5.0</td>\n",
              "      <td>5.012896825396825</td>\n",
              "      <td>5.007164902998237</td>\n",
              "      <td>0.0071649029982365775</td>\n",
              "    </tr>\n",
              "  </tbody>\n",
              "</table>\n",
              "<p>166 rows × 8 columns</p>\n",
              "</div>"
            ],
            "text/plain": [
              "      ProductId          UserId  ...        Biased_Score             difference\n",
              "0    B004HB2X4Y  A2T3S3VTW65VO5  ...  3.0309655935879105    -0.9690344064120895\n",
              "1    B006DDT6JO  A2NB2E5DXE319Z  ...    4.80412116478112   -0.19587883521888028\n",
              "2    B0036ORCHG  A2NB2E5DXE319Z  ...  4.8364628177701725    -0.1635371822298275\n",
              "3    B001VKY7WU   AL42PIIG5DXYD  ...   4.097560815143162     0.0975608151431624\n",
              "4    B003VAHYTG  A112E6NE5MGEFM  ...    4.94490268361298  -0.055097316387019646\n",
              "..          ...             ...  ...                 ...                    ...\n",
              "161  B005FYNSPK  A27LEATCCMJJF4  ...   4.179956726365004    0.17995672636500437\n",
              "162  B00000J1V5  A2X435VE2DGZFG  ...   5.330421939622406    0.33042193962240596\n",
              "163  B00CM9K7E6  A1HL0V61O8Q0JK  ...   5.016108953702941    0.01610895370294063\n",
              "164  B0040723AO  A226GFM0Q9L37H  ...   4.979196961620128   -0.02080303837987163\n",
              "165  B003LHUQQ2   AU4M0Y5FB249U  ...   5.007164902998237  0.0071649029982365775\n",
              "\n",
              "[166 rows x 8 columns]"
            ]
          },
          "metadata": {
            "tags": []
          },
          "execution_count": 33
        }
      ]
    },
    {
      "cell_type": "code",
      "metadata": {
        "id": "P_O3iA8x0AW2"
      },
      "source": [
        "user_item_pair.to_csv('drive/My Drive/ubr/ground_truth/bias_0dec02_inference.csv', index=False)"
      ],
      "execution_count": null,
      "outputs": []
    },
    {
      "cell_type": "markdown",
      "metadata": {
        "id": "6dxHkndrsaPN"
      },
      "source": [
        "### Selection of a few tuples where the review text and review summary is ambiguous"
      ]
    },
    {
      "cell_type": "code",
      "metadata": {
        "id": "QiNP1VGdUTww"
      },
      "source": [
        "text_discrepancy = user_item_pair.iloc[[0,2,3,9,15,19,33,38,53,69,71,84,93], [2,3,4,6]]"
      ],
      "execution_count": null,
      "outputs": []
    },
    {
      "cell_type": "code",
      "metadata": {
        "id": "xkf42kjzZ67b",
        "outputId": "6c3ca998-20ce-422a-a194-3dfa392e6308",
        "colab": {
          "base_uri": "https://localhost:8080/"
        }
      },
      "source": [
        "text_discrepancy = text_discrepancy.reset_index()\n",
        "text_discrepancy"
      ],
      "execution_count": null,
      "outputs": [
        {
          "output_type": "execute_result",
          "data": {
            "text/html": [
              "<div>\n",
              "<style scoped>\n",
              "    .dataframe tbody tr th:only-of-type {\n",
              "        vertical-align: middle;\n",
              "    }\n",
              "\n",
              "    .dataframe tbody tr th {\n",
              "        vertical-align: top;\n",
              "    }\n",
              "\n",
              "    .dataframe thead th {\n",
              "        text-align: right;\n",
              "    }\n",
              "</style>\n",
              "<table border=\"1\" class=\"dataframe\">\n",
              "  <thead>\n",
              "    <tr style=\"text-align: right;\">\n",
              "      <th></th>\n",
              "      <th>index</th>\n",
              "      <th>Summary</th>\n",
              "      <th>Text</th>\n",
              "      <th>Score</th>\n",
              "      <th>Biased_Score</th>\n",
              "    </tr>\n",
              "  </thead>\n",
              "  <tbody>\n",
              "    <tr>\n",
              "      <th>0</th>\n",
              "      <td>0</td>\n",
              "      <td>b' doe a good job but no miracl'</td>\n",
              "      <td>b' i have an antenna on my boat so there reall...</td>\n",
              "      <td>4.0</td>\n",
              "      <td>3.0309655935879105</td>\n",
              "    </tr>\n",
              "    <tr>\n",
              "      <th>1</th>\n",
              "      <td>2</td>\n",
              "      <td>b' veri nice construct'</td>\n",
              "      <td>b' have purchas a veri tall case antec p for m...</td>\n",
              "      <td>5.0</td>\n",
              "      <td>4.8364628177701725</td>\n",
              "    </tr>\n",
              "    <tr>\n",
              "      <th>2</th>\n",
              "      <td>3</td>\n",
              "      <td>b' be ok'</td>\n",
              "      <td>b' within the first year a processor go bad $ ...</td>\n",
              "      <td>4.0</td>\n",
              "      <td>4.097560815143162</td>\n",
              "    </tr>\n",
              "    <tr>\n",
              "      <th>3</th>\n",
              "      <td>9</td>\n",
              "      <td>b' wonder sound high qualiti stiff cord'</td>\n",
              "      <td>b' i realli like the sound and comfort in thes...</td>\n",
              "      <td>4.0</td>\n",
              "      <td>4.674130095422408</td>\n",
              "    </tr>\n",
              "    <tr>\n",
              "      <th>4</th>\n",
              "      <td>15</td>\n",
              "      <td>b' lot of interfer background nois send them b...</td>\n",
              "      <td>b' all of the featur of thi headset work marve...</td>\n",
              "      <td>2.0</td>\n",
              "      <td>2.9924965379602435</td>\n",
              "    </tr>\n",
              "    <tr>\n",
              "      <th>5</th>\n",
              "      <td>19</td>\n",
              "      <td>b' rca wall tap surg protector with swivel out...</td>\n",
              "      <td>b' thi be a great unit for manag and organ you...</td>\n",
              "      <td>3.0</td>\n",
              "      <td>3.942858283840178</td>\n",
              "    </tr>\n",
              "    <tr>\n",
              "      <th>6</th>\n",
              "      <td>33</td>\n",
              "      <td>b' easi instal of an awesom suit'</td>\n",
              "      <td>b' i wa pleasantli surpris with the easi possi...</td>\n",
              "      <td>5.0</td>\n",
              "      <td>3.613660451744276</td>\n",
              "    </tr>\n",
              "    <tr>\n",
              "      <th>7</th>\n",
              "      <td>38</td>\n",
              "      <td>b' sound qualiti sub par and volum be not that...</td>\n",
              "      <td>b' from the look and feel of thi product i hav...</td>\n",
              "      <td>3.0</td>\n",
              "      <td>4.305112659120411</td>\n",
              "    </tr>\n",
              "    <tr>\n",
              "      <th>8</th>\n",
              "      <td>53</td>\n",
              "      <td>b' mix impress'</td>\n",
              "      <td>b' note i ve updat thi review $ pleas see the ...</td>\n",
              "      <td>3.0</td>\n",
              "      <td>3.891891891891902</td>\n",
              "    </tr>\n",
              "    <tr>\n",
              "      <th>9</th>\n",
              "      <td>69</td>\n",
              "      <td>b' fit fine but scratch easili'</td>\n",
              "      <td>b' thi fit my ipod touch nd gen just fine but ...</td>\n",
              "      <td>3.0</td>\n",
              "      <td>4.109873928021293</td>\n",
              "    </tr>\n",
              "    <tr>\n",
              "      <th>10</th>\n",
              "      <td>71</td>\n",
              "      <td>b' super slick look use of magnet be a win $ e...</td>\n",
              "      <td>b' summari extrem well execut design with usab...</td>\n",
              "      <td>3.0</td>\n",
              "      <td>3.8303815730103015</td>\n",
              "    </tr>\n",
              "    <tr>\n",
              "      <th>11</th>\n",
              "      <td>84</td>\n",
              "      <td>b' good protect for my kindl'</td>\n",
              "      <td>b' it fit the kindl paperwhit screen perfectli...</td>\n",
              "      <td>4.0</td>\n",
              "      <td>4.007165041983687</td>\n",
              "    </tr>\n",
              "    <tr>\n",
              "      <th>12</th>\n",
              "      <td>93</td>\n",
              "      <td>b' not mac compat and come apart'</td>\n",
              "      <td>b' if you be a mac owner then skip thi product...</td>\n",
              "      <td>1.0</td>\n",
              "      <td>2.9885487966640216</td>\n",
              "    </tr>\n",
              "  </tbody>\n",
              "</table>\n",
              "</div>"
            ],
            "text/plain": [
              "    index  ...        Biased_Score\n",
              "0       0  ...  3.0309655935879105\n",
              "1       2  ...  4.8364628177701725\n",
              "2       3  ...   4.097560815143162\n",
              "3       9  ...   4.674130095422408\n",
              "4      15  ...  2.9924965379602435\n",
              "5      19  ...   3.942858283840178\n",
              "6      33  ...   3.613660451744276\n",
              "7      38  ...   4.305112659120411\n",
              "8      53  ...   3.891891891891902\n",
              "9      69  ...   4.109873928021293\n",
              "10     71  ...  3.8303815730103015\n",
              "11     84  ...   4.007165041983687\n",
              "12     93  ...  2.9885487966640216\n",
              "\n",
              "[13 rows x 5 columns]"
            ]
          },
          "metadata": {
            "tags": []
          },
          "execution_count": 36
        }
      ]
    },
    {
      "cell_type": "code",
      "metadata": {
        "id": "SPduVsy7crHQ"
      },
      "source": [
        "text_discrepancy.to_csv('drive/My Drive/ubr/ground_truth/rel_review_rating.csv', index=False)"
      ],
      "execution_count": null,
      "outputs": []
    }
  ]
}