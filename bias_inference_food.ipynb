{
  "nbformat": 4,
  "nbformat_minor": 0,
  "metadata": {
    "colab": {
      "name": "bias_inference_food.ipynb",
      "provenance": [],
      "collapsed_sections": []
    },
    "kernelspec": {
      "name": "python3",
      "display_name": "Python 3"
    }
  },
  "cells": [
    {
      "cell_type": "markdown",
      "metadata": {
        "id": "Vnffp8rxh3LS"
      },
      "source": [
        "Following analysis is done on prediction review score:\n",
        "\n",
        "\n",
        "1.   Plot the distribution and analysis of the mean difference between predicted and actual ratings for each user and product\n",
        "2.   Anomaly Detection\n",
        "3.   Analysis of discrepancy in bias present in review text and review score\n",
        "\n",
        "Note: When using a different dataset, change data location accordingly at all places\n",
        "\n",
        "\n",
        "\n"
      ]
    },
    {
      "cell_type": "code",
      "metadata": {
        "id": "dhTAlSbBxB-n",
        "outputId": "2ae5dac0-2611-46ed-df95-67789979dfe8",
        "colab": {
          "base_uri": "https://localhost:8080/"
        }
      },
      "source": [
        "from google.colab import drive\n",
        "drive.mount('/content/drive')"
      ],
      "execution_count": null,
      "outputs": [
        {
          "output_type": "stream",
          "text": [
            "Mounted at /content/drive\n"
          ],
          "name": "stdout"
        }
      ]
    },
    {
      "cell_type": "code",
      "metadata": {
        "id": "wP8i0pRhxPvB"
      },
      "source": [
        "import sqlite3\n",
        "import csv\n",
        "import pandas as pd\n",
        "import numpy as np\n",
        "import nltk\n",
        "import string\n",
        "import matplotlib.pyplot as plt\n",
        "import numpy as np\n",
        "import sys\n",
        "from sklearn.metrics import r2_score, mean_squared_error, mean_absolute_error, max_error"
      ],
      "execution_count": null,
      "outputs": []
    },
    {
      "cell_type": "code",
      "metadata": {
        "id": "b2kqvLFhxYhU"
      },
      "source": [
        "test_data = pd.read_csv('drive/My Drive/ubr/food/6_biased_data.csv')"
      ],
      "execution_count": null,
      "outputs": []
    },
    {
      "cell_type": "code",
      "metadata": {
        "id": "rkWvFTdOxgFY"
      },
      "source": [
        "user_dict = np.load(\"drive/My Drive/ubr/food/user_dict.npy\",allow_pickle=True).item()\n",
        "item_dict = np.load(\"drive/My Drive/ubr/food/item_dict.npy\",allow_pickle=True).item()"
      ],
      "execution_count": null,
      "outputs": []
    },
    {
      "cell_type": "markdown",
      "metadata": {
        "id": "tK_WysyaUxKR"
      },
      "source": [
        "# Plot the distribution and analysis of the mean difference between predicted and actual ratings for each user and product"
      ]
    },
    {
      "cell_type": "code",
      "metadata": {
        "id": "zZXJC6WWxiVc"
      },
      "source": [
        "test_data['difference'] =  test_data['Biased_Score'] - test_data['Score']"
      ],
      "execution_count": null,
      "outputs": []
    },
    {
      "cell_type": "code",
      "metadata": {
        "id": "SZPXBwkixrWG",
        "outputId": "cb9b3344-303c-43fa-a53c-6666b5872ae5",
        "colab": {
          "base_uri": "https://localhost:8080/",
          "height": 419
        }
      },
      "source": [
        "test_data"
      ],
      "execution_count": null,
      "outputs": [
        {
          "output_type": "execute_result",
          "data": {
            "text/html": [
              "<div>\n",
              "<style scoped>\n",
              "    .dataframe tbody tr th:only-of-type {\n",
              "        vertical-align: middle;\n",
              "    }\n",
              "\n",
              "    .dataframe tbody tr th {\n",
              "        vertical-align: top;\n",
              "    }\n",
              "\n",
              "    .dataframe thead th {\n",
              "        text-align: right;\n",
              "    }\n",
              "</style>\n",
              "<table border=\"1\" class=\"dataframe\">\n",
              "  <thead>\n",
              "    <tr style=\"text-align: right;\">\n",
              "      <th></th>\n",
              "      <th>ProductId</th>\n",
              "      <th>UserId</th>\n",
              "      <th>Summary</th>\n",
              "      <th>Text</th>\n",
              "      <th>Score</th>\n",
              "      <th>Unbiased_Score</th>\n",
              "      <th>Biased_Score</th>\n",
              "      <th>difference</th>\n",
              "    </tr>\n",
              "  </thead>\n",
              "  <tbody>\n",
              "    <tr>\n",
              "      <th>0</th>\n",
              "      <td>B002DHBTHG</td>\n",
              "      <td>A27DYAY3FUWIZ8</td>\n",
              "      <td>b' oatmeal raisin cooki of joy'</td>\n",
              "      <td>b' frankli i don t care if food be organ or no...</td>\n",
              "      <td>5.0</td>\n",
              "      <td>4.305485</td>\n",
              "      <td>4.298186</td>\n",
              "      <td>-0.701814</td>\n",
              "    </tr>\n",
              "    <tr>\n",
              "      <th>1</th>\n",
              "      <td>7310172101</td>\n",
              "      <td>AE9ZBY7WW3LIQ</td>\n",
              "      <td>b' whi sbould i get crum'</td>\n",
              "      <td>b' i select thi compani over the other even th...</td>\n",
              "      <td>1.0</td>\n",
              "      <td>2.721678</td>\n",
              "      <td>2.990295</td>\n",
              "      <td>1.990295</td>\n",
              "    </tr>\n",
              "    <tr>\n",
              "      <th>2</th>\n",
              "      <td>B0029O10P4</td>\n",
              "      <td>A2B15SRBD1OEFY</td>\n",
              "      <td>b' my cat love it'</td>\n",
              "      <td>b' my cat can t get enough of these treat $ a ...</td>\n",
              "      <td>5.0</td>\n",
              "      <td>5.202271</td>\n",
              "      <td>5.141790</td>\n",
              "      <td>0.141790</td>\n",
              "    </tr>\n",
              "    <tr>\n",
              "      <th>3</th>\n",
              "      <td>B000GAT6MM</td>\n",
              "      <td>ANRJ7OJLB3NS1</td>\n",
              "      <td>b' nutiva organ shell hempse lb $ bag'</td>\n",
              "      <td>b' i start with oz $ of thi product at first $...</td>\n",
              "      <td>5.0</td>\n",
              "      <td>5.404319</td>\n",
              "      <td>5.100332</td>\n",
              "      <td>0.100332</td>\n",
              "    </tr>\n",
              "    <tr>\n",
              "      <th>4</th>\n",
              "      <td>B000WFKGR0</td>\n",
              "      <td>A134S6TOUH24QV</td>\n",
              "      <td>b' my dog love thi'</td>\n",
              "      <td>b' thi be one food that when mix with their dr...</td>\n",
              "      <td>5.0</td>\n",
              "      <td>5.065492</td>\n",
              "      <td>5.010736</td>\n",
              "      <td>0.010736</td>\n",
              "    </tr>\n",
              "    <tr>\n",
              "      <th>...</th>\n",
              "      <td>...</td>\n",
              "      <td>...</td>\n",
              "      <td>...</td>\n",
              "      <td>...</td>\n",
              "      <td>...</td>\n",
              "      <td>...</td>\n",
              "      <td>...</td>\n",
              "      <td>...</td>\n",
              "    </tr>\n",
              "    <tr>\n",
              "      <th>18376</th>\n",
              "      <td>B001HBBQKY</td>\n",
              "      <td>A1W2F15YRW36XF</td>\n",
              "      <td>b' just for puppi'</td>\n",
              "      <td>b' my puppi love these treat $ they be soft so...</td>\n",
              "      <td>5.0</td>\n",
              "      <td>4.520520</td>\n",
              "      <td>4.489250</td>\n",
              "      <td>-0.510750</td>\n",
              "    </tr>\n",
              "    <tr>\n",
              "      <th>18377</th>\n",
              "      <td>B000CQID2Y</td>\n",
              "      <td>A281NPSIMI1C2R</td>\n",
              "      <td>b' warm holiday memori'</td>\n",
              "      <td>b' stash s cinnamon appl chamomil be a comfort...</td>\n",
              "      <td>5.0</td>\n",
              "      <td>4.959982</td>\n",
              "      <td>4.705419</td>\n",
              "      <td>-0.294581</td>\n",
              "    </tr>\n",
              "    <tr>\n",
              "      <th>18378</th>\n",
              "      <td>B0014ATRV8</td>\n",
              "      <td>A1O8B2WYDCPTIQ</td>\n",
              "      <td>b' senna leaf'</td>\n",
              "      <td>b' i use a high price senna for sever year and...</td>\n",
              "      <td>5.0</td>\n",
              "      <td>5.001121</td>\n",
              "      <td>5.000149</td>\n",
              "      <td>0.000149</td>\n",
              "    </tr>\n",
              "    <tr>\n",
              "      <th>18379</th>\n",
              "      <td>B0039556K2</td>\n",
              "      <td>A2F7XE4EB2CRY2</td>\n",
              "      <td>b' real nice coffe'</td>\n",
              "      <td>b' just a sweet and enjoy coffe $ almost a des...</td>\n",
              "      <td>5.0</td>\n",
              "      <td>3.936074</td>\n",
              "      <td>3.977043</td>\n",
              "      <td>-1.022957</td>\n",
              "    </tr>\n",
              "    <tr>\n",
              "      <th>18380</th>\n",
              "      <td>B005VOONI0</td>\n",
              "      <td>A1HRYC60VTMYC0</td>\n",
              "      <td>b' i have to improvis but i love it'</td>\n",
              "      <td>b' by improvis i mean that i have no coffeemak...</td>\n",
              "      <td>5.0</td>\n",
              "      <td>4.357660</td>\n",
              "      <td>4.338785</td>\n",
              "      <td>-0.661215</td>\n",
              "    </tr>\n",
              "  </tbody>\n",
              "</table>\n",
              "<p>18381 rows × 8 columns</p>\n",
              "</div>"
            ],
            "text/plain": [
              "        ProductId          UserId  ... Biased_Score difference\n",
              "0      B002DHBTHG  A27DYAY3FUWIZ8  ...     4.298186  -0.701814\n",
              "1      7310172101   AE9ZBY7WW3LIQ  ...     2.990295   1.990295\n",
              "2      B0029O10P4  A2B15SRBD1OEFY  ...     5.141790   0.141790\n",
              "3      B000GAT6MM   ANRJ7OJLB3NS1  ...     5.100332   0.100332\n",
              "4      B000WFKGR0  A134S6TOUH24QV  ...     5.010736   0.010736\n",
              "...           ...             ...  ...          ...        ...\n",
              "18376  B001HBBQKY  A1W2F15YRW36XF  ...     4.489250  -0.510750\n",
              "18377  B000CQID2Y  A281NPSIMI1C2R  ...     4.705419  -0.294581\n",
              "18378  B0014ATRV8  A1O8B2WYDCPTIQ  ...     5.000149   0.000149\n",
              "18379  B0039556K2  A2F7XE4EB2CRY2  ...     3.977043  -1.022957\n",
              "18380  B005VOONI0  A1HRYC60VTMYC0  ...     4.338785  -0.661215\n",
              "\n",
              "[18381 rows x 8 columns]"
            ]
          },
          "metadata": {
            "tags": []
          },
          "execution_count": 6
        }
      ]
    },
    {
      "cell_type": "markdown",
      "metadata": {
        "id": "Tu6hUfGHVeFU"
      },
      "source": [
        "## Calculation of mean difference value for each user and product"
      ]
    },
    {
      "cell_type": "markdown",
      "metadata": {
        "id": "LjVqST10WRes"
      },
      "source": [
        "### Product"
      ]
    },
    {
      "cell_type": "code",
      "metadata": {
        "id": "1mdQVXTAx584",
        "outputId": "e51f6238-8e8a-4c2d-b206-5c7ad0eea5df",
        "colab": {
          "base_uri": "https://localhost:8080/"
        }
      },
      "source": [
        "item_unique = test_data.ProductId.unique()\n",
        "print(item_unique.shape)\n",
        "print(item_unique)"
      ],
      "execution_count": null,
      "outputs": [
        {
          "output_type": "stream",
          "text": [
            "(3978,)\n",
            "['B002DHBTHG' '7310172101' 'B0029O10P4' ... 'B000EYPNCW' 'B0029NV488'\n",
            " 'B000EMAZPO']\n"
          ],
          "name": "stdout"
        }
      ]
    },
    {
      "cell_type": "code",
      "metadata": {
        "id": "T6aPx_gwx79d"
      },
      "source": [
        "#converting to a dataframe\n",
        "item_diff = pd.DataFrame({'ProductId': item_unique})"
      ],
      "execution_count": null,
      "outputs": []
    },
    {
      "cell_type": "code",
      "metadata": {
        "id": "LUDWgPxrx-Qv"
      },
      "source": [
        "item_d = []\n",
        "for item in range(len(item_unique)):\n",
        "  test_item = test_data[test_data['ProductId'] == item_unique[item]]\n",
        "  val = test_item['difference'].mean()\n",
        "  item_d.append(val)"
      ],
      "execution_count": null,
      "outputs": []
    },
    {
      "cell_type": "code",
      "metadata": {
        "id": "HhyJz6eJyB44",
        "outputId": "d72e54b1-e5f7-4fac-81c5-2ad5d25e628a",
        "colab": {
          "base_uri": "https://localhost:8080/",
          "height": 204
        }
      },
      "source": [
        "item_diff['difference'] = item_d\n",
        "item_diff.tail()"
      ],
      "execution_count": null,
      "outputs": [
        {
          "output_type": "execute_result",
          "data": {
            "text/html": [
              "<div>\n",
              "<style scoped>\n",
              "    .dataframe tbody tr th:only-of-type {\n",
              "        vertical-align: middle;\n",
              "    }\n",
              "\n",
              "    .dataframe tbody tr th {\n",
              "        vertical-align: top;\n",
              "    }\n",
              "\n",
              "    .dataframe thead th {\n",
              "        text-align: right;\n",
              "    }\n",
              "</style>\n",
              "<table border=\"1\" class=\"dataframe\">\n",
              "  <thead>\n",
              "    <tr style=\"text-align: right;\">\n",
              "      <th></th>\n",
              "      <th>ProductId</th>\n",
              "      <th>difference</th>\n",
              "    </tr>\n",
              "  </thead>\n",
              "  <tbody>\n",
              "    <tr>\n",
              "      <th>3973</th>\n",
              "      <td>B004U7QY5O</td>\n",
              "      <td>2.000845</td>\n",
              "    </tr>\n",
              "    <tr>\n",
              "      <th>3974</th>\n",
              "      <td>B002UUJ590</td>\n",
              "      <td>-2.296139</td>\n",
              "    </tr>\n",
              "    <tr>\n",
              "      <th>3975</th>\n",
              "      <td>B000EYPNCW</td>\n",
              "      <td>2.545153</td>\n",
              "    </tr>\n",
              "    <tr>\n",
              "      <th>3976</th>\n",
              "      <td>B0029NV488</td>\n",
              "      <td>0.200000</td>\n",
              "    </tr>\n",
              "    <tr>\n",
              "      <th>3977</th>\n",
              "      <td>B000EMAZPO</td>\n",
              "      <td>0.468341</td>\n",
              "    </tr>\n",
              "  </tbody>\n",
              "</table>\n",
              "</div>"
            ],
            "text/plain": [
              "       ProductId  difference\n",
              "3973  B004U7QY5O    2.000845\n",
              "3974  B002UUJ590   -2.296139\n",
              "3975  B000EYPNCW    2.545153\n",
              "3976  B0029NV488    0.200000\n",
              "3977  B000EMAZPO    0.468341"
            ]
          },
          "metadata": {
            "tags": []
          },
          "execution_count": 10
        }
      ]
    },
    {
      "cell_type": "markdown",
      "metadata": {
        "id": "h0ydoXyiwIjU"
      },
      "source": [
        "### User"
      ]
    },
    {
      "cell_type": "code",
      "metadata": {
        "id": "tRo-wX5fxwFt",
        "outputId": "81697a44-e24b-4cd2-d75c-2b123b8c944e",
        "colab": {
          "base_uri": "https://localhost:8080/"
        }
      },
      "source": [
        "user_unique = test_data.UserId.unique()\n",
        "print(user_unique.shape)\n",
        "print(user_unique)"
      ],
      "execution_count": null,
      "outputs": [
        {
          "output_type": "stream",
          "text": [
            "(4904,)\n",
            "['A27DYAY3FUWIZ8' 'AE9ZBY7WW3LIQ' 'A2B15SRBD1OEFY' ... 'A1O1OQ5VS0OCNI'\n",
            " 'ALPQOXCRF3SSH' 'A1752DLH60KYMK']\n"
          ],
          "name": "stdout"
        }
      ]
    },
    {
      "cell_type": "code",
      "metadata": {
        "id": "ve5pJuTgyHf6"
      },
      "source": [
        "user_diff = pd.DataFrame({'UserId': user_unique}) "
      ],
      "execution_count": null,
      "outputs": []
    },
    {
      "cell_type": "code",
      "metadata": {
        "id": "NYUjWmxzyJrY"
      },
      "source": [
        "user_d = []\n",
        "for user in range(len(user_unique)):\n",
        "  test_user = test_data[test_data['UserId'] == user_unique[user]]\n",
        "  val = test_user['difference'].mean()\n",
        "  user_d.append(val)"
      ],
      "execution_count": null,
      "outputs": []
    },
    {
      "cell_type": "code",
      "metadata": {
        "id": "zNuR29MsyLnO",
        "outputId": "b995dde2-e8ae-4454-f8bc-28242c367282",
        "colab": {
          "base_uri": "https://localhost:8080/",
          "height": 204
        }
      },
      "source": [
        "user_diff['difference'] = user_d\n",
        "user_diff.tail()"
      ],
      "execution_count": null,
      "outputs": [
        {
          "output_type": "execute_result",
          "data": {
            "text/html": [
              "<div>\n",
              "<style scoped>\n",
              "    .dataframe tbody tr th:only-of-type {\n",
              "        vertical-align: middle;\n",
              "    }\n",
              "\n",
              "    .dataframe tbody tr th {\n",
              "        vertical-align: top;\n",
              "    }\n",
              "\n",
              "    .dataframe thead th {\n",
              "        text-align: right;\n",
              "    }\n",
              "</style>\n",
              "<table border=\"1\" class=\"dataframe\">\n",
              "  <thead>\n",
              "    <tr style=\"text-align: right;\">\n",
              "      <th></th>\n",
              "      <th>UserId</th>\n",
              "      <th>difference</th>\n",
              "    </tr>\n",
              "  </thead>\n",
              "  <tbody>\n",
              "    <tr>\n",
              "      <th>4899</th>\n",
              "      <td>A1AVPWGPV8ZOGZ</td>\n",
              "      <td>0.400697</td>\n",
              "    </tr>\n",
              "    <tr>\n",
              "      <th>4900</th>\n",
              "      <td>A1GWDRBUMQOCRK</td>\n",
              "      <td>-1.585292</td>\n",
              "    </tr>\n",
              "    <tr>\n",
              "      <th>4901</th>\n",
              "      <td>A1O1OQ5VS0OCNI</td>\n",
              "      <td>1.200000</td>\n",
              "    </tr>\n",
              "    <tr>\n",
              "      <th>4902</th>\n",
              "      <td>ALPQOXCRF3SSH</td>\n",
              "      <td>-0.346940</td>\n",
              "    </tr>\n",
              "    <tr>\n",
              "      <th>4903</th>\n",
              "      <td>A1752DLH60KYMK</td>\n",
              "      <td>2.045356</td>\n",
              "    </tr>\n",
              "  </tbody>\n",
              "</table>\n",
              "</div>"
            ],
            "text/plain": [
              "              UserId  difference\n",
              "4899  A1AVPWGPV8ZOGZ    0.400697\n",
              "4900  A1GWDRBUMQOCRK   -1.585292\n",
              "4901  A1O1OQ5VS0OCNI    1.200000\n",
              "4902   ALPQOXCRF3SSH   -0.346940\n",
              "4903  A1752DLH60KYMK    2.045356"
            ]
          },
          "metadata": {
            "tags": []
          },
          "execution_count": 14
        }
      ]
    },
    {
      "cell_type": "code",
      "metadata": {
        "id": "1UbBfcGkyNzl"
      },
      "source": [
        "item_diff.to_csv('drive/My Drive/ubr/food/bias_item_diff_mean.csv', index=False)\n",
        "user_diff.to_csv('drive/My Drive/ubr/food/bias_user_diff_mean.csv', index=False)"
      ],
      "execution_count": null,
      "outputs": []
    },
    {
      "cell_type": "markdown",
      "metadata": {
        "id": "ARx7bNm-xLSD"
      },
      "source": [
        "## Frequency distribution of mean difference values\n",
        "\n"
      ]
    },
    {
      "cell_type": "markdown",
      "metadata": {
        "id": "XW1ORU0pXFKc"
      },
      "source": [
        "### Product"
      ]
    },
    {
      "cell_type": "code",
      "metadata": {
        "id": "NyCHZFPoyaKx",
        "outputId": "5ee7b7c3-ed13-4890-a18e-b079566b5ef9",
        "colab": {
          "base_uri": "https://localhost:8080/",
          "height": 312
        }
      },
      "source": [
        "n, bins, patches = plt.hist(x=item_diff['difference'], bins='auto', color='#0504aa',\n",
        "                            alpha=0.7, edgecolor='blue')\n",
        "plt.grid(axis='y', alpha=0.75)\n",
        "plt.xlabel('Difference between score and biased score for item')\n",
        "plt.ylabel('Frequency')\n",
        "plt.title('Item biased-score')"
      ],
      "execution_count": null,
      "outputs": [
        {
          "output_type": "execute_result",
          "data": {
            "text/plain": [
              "Text(0.5, 1.0, 'Item biased-score')"
            ]
          },
          "metadata": {
            "tags": []
          },
          "execution_count": 16
        },
        {
          "output_type": "display_data",
          "data": {
            "image/png": "[encoded data removed]",
            "text/plain": [
              "<Figure size 432x288 with 1 Axes>"
            ]
          },
          "metadata": {
            "tags": [],
            "needs_background": "light"
          }
        }
      ]
    },
    {
      "cell_type": "markdown",
      "metadata": {
        "id": "_iBhHtrhxQyR"
      },
      "source": [
        "### User"
      ]
    },
    {
      "cell_type": "code",
      "metadata": {
        "id": "BVXxwlMuyqGk",
        "outputId": "8ea39122-fa7a-47ab-eac1-702ced5e77d9",
        "colab": {
          "base_uri": "https://localhost:8080/",
          "height": 312
        }
      },
      "source": [
        "n, bins, patches = plt.hist(x=user_diff['difference'], bins='auto', color='#0504aa',\n",
        "                            alpha=0.7, edgecolor='black')\n",
        "plt.grid(axis='y', alpha=0.75)\n",
        "plt.xlabel('Difference between score and biased score for user')\n",
        "plt.ylabel('Frequency')\n",
        "plt.title('User score-biased')"
      ],
      "execution_count": null,
      "outputs": [
        {
          "output_type": "execute_result",
          "data": {
            "text/plain": [
              "Text(0.5, 1.0, 'User score-biased')"
            ]
          },
          "metadata": {
            "tags": []
          },
          "execution_count": 17
        },
        {
          "output_type": "display_data",
          "data": {
            "image/png": "[encoded data removed]",
            "text/plain": [
              "<Figure size 432x288 with 1 Axes>"
            ]
          },
          "metadata": {
            "tags": [],
            "needs_background": "light"
          }
        }
      ]
    },
    {
      "cell_type": "markdown",
      "metadata": {
        "id": "YztwKJAXXtTZ"
      },
      "source": [
        "## Calculation of the number of users and products with certain average error (difference in predicted and actual review score)"
      ]
    },
    {
      "cell_type": "markdown",
      "metadata": {
        "id": "GRACyTalYIWw"
      },
      "source": [
        "### Error between -0.2 and 0.2"
      ]
    },
    {
      "cell_type": "code",
      "metadata": {
        "id": "IrWWw4iHYfPf",
        "outputId": "0761144a-eb10-4524-ac6c-a0f4d36fb00c",
        "colab": {
          "base_uri": "https://localhost:8080/",
          "height": 419
        }
      },
      "source": [
        "bias_item_0d2 = item_diff[(item_diff['difference'] >= -0.2) & (item_diff['difference'] <= 0.2)]\n",
        "bias_item_0d2 = bias_item_0d2.reset_index()\n",
        "bias_item_0d2"
      ],
      "execution_count": null,
      "outputs": [
        {
          "output_type": "execute_result",
          "data": {
            "text/html": [
              "<div>\n",
              "<style scoped>\n",
              "    .dataframe tbody tr th:only-of-type {\n",
              "        vertical-align: middle;\n",
              "    }\n",
              "\n",
              "    .dataframe tbody tr th {\n",
              "        vertical-align: top;\n",
              "    }\n",
              "\n",
              "    .dataframe thead th {\n",
              "        text-align: right;\n",
              "    }\n",
              "</style>\n",
              "<table border=\"1\" class=\"dataframe\">\n",
              "  <thead>\n",
              "    <tr style=\"text-align: right;\">\n",
              "      <th></th>\n",
              "      <th>index</th>\n",
              "      <th>ProductId</th>\n",
              "      <th>difference</th>\n",
              "    </tr>\n",
              "  </thead>\n",
              "  <tbody>\n",
              "    <tr>\n",
              "      <th>0</th>\n",
              "      <td>2</td>\n",
              "      <td>B0029O10P4</td>\n",
              "      <td>0.134593</td>\n",
              "    </tr>\n",
              "    <tr>\n",
              "      <th>1</th>\n",
              "      <td>3</td>\n",
              "      <td>B000GAT6MM</td>\n",
              "      <td>0.034969</td>\n",
              "    </tr>\n",
              "    <tr>\n",
              "      <th>2</th>\n",
              "      <td>4</td>\n",
              "      <td>B000WFKGR0</td>\n",
              "      <td>0.022412</td>\n",
              "    </tr>\n",
              "    <tr>\n",
              "      <th>3</th>\n",
              "      <td>6</td>\n",
              "      <td>B006Q7YG24</td>\n",
              "      <td>-0.180159</td>\n",
              "    </tr>\n",
              "    <tr>\n",
              "      <th>4</th>\n",
              "      <td>7</td>\n",
              "      <td>B005VOONLW</td>\n",
              "      <td>-0.001902</td>\n",
              "    </tr>\n",
              "    <tr>\n",
              "      <th>...</th>\n",
              "      <td>...</td>\n",
              "      <td>...</td>\n",
              "      <td>...</td>\n",
              "    </tr>\n",
              "    <tr>\n",
              "      <th>1352</th>\n",
              "      <td>3955</td>\n",
              "      <td>B0016BS3BK</td>\n",
              "      <td>-0.192222</td>\n",
              "    </tr>\n",
              "    <tr>\n",
              "      <th>1353</th>\n",
              "      <td>3956</td>\n",
              "      <td>B003P9XGDG</td>\n",
              "      <td>-0.076923</td>\n",
              "    </tr>\n",
              "    <tr>\n",
              "      <th>1354</th>\n",
              "      <td>3957</td>\n",
              "      <td>B001D0GV7M</td>\n",
              "      <td>0.000000</td>\n",
              "    </tr>\n",
              "    <tr>\n",
              "      <th>1355</th>\n",
              "      <td>3960</td>\n",
              "      <td>B001VSBWF2</td>\n",
              "      <td>0.175918</td>\n",
              "    </tr>\n",
              "    <tr>\n",
              "      <th>1356</th>\n",
              "      <td>3970</td>\n",
              "      <td>B003OZX4ME</td>\n",
              "      <td>-0.069718</td>\n",
              "    </tr>\n",
              "  </tbody>\n",
              "</table>\n",
              "<p>1357 rows × 3 columns</p>\n",
              "</div>"
            ],
            "text/plain": [
              "      index   ProductId  difference\n",
              "0         2  B0029O10P4    0.134593\n",
              "1         3  B000GAT6MM    0.034969\n",
              "2         4  B000WFKGR0    0.022412\n",
              "3         6  B006Q7YG24   -0.180159\n",
              "4         7  B005VOONLW   -0.001902\n",
              "...     ...         ...         ...\n",
              "1352   3955  B0016BS3BK   -0.192222\n",
              "1353   3956  B003P9XGDG   -0.076923\n",
              "1354   3957  B001D0GV7M    0.000000\n",
              "1355   3960  B001VSBWF2    0.175918\n",
              "1356   3970  B003OZX4ME   -0.069718\n",
              "\n",
              "[1357 rows x 3 columns]"
            ]
          },
          "metadata": {
            "tags": []
          },
          "execution_count": 18
        }
      ]
    },
    {
      "cell_type": "code",
      "metadata": {
        "id": "l-D0gw9hY7Gg",
        "outputId": "f3728c41-2285-448e-822f-47741c3f0cc6",
        "colab": {
          "base_uri": "https://localhost:8080/",
          "height": 419
        }
      },
      "source": [
        "bias_user_0d2 = user_diff[(user_diff['difference'] >= -0.2) & (user_diff['difference'] <= 0.2)]\n",
        "bias_user_0d2 = bias_user_0d2.reset_index()\n",
        "bias_user_0d2"
      ],
      "execution_count": null,
      "outputs": [
        {
          "output_type": "execute_result",
          "data": {
            "text/html": [
              "<div>\n",
              "<style scoped>\n",
              "    .dataframe tbody tr th:only-of-type {\n",
              "        vertical-align: middle;\n",
              "    }\n",
              "\n",
              "    .dataframe tbody tr th {\n",
              "        vertical-align: top;\n",
              "    }\n",
              "\n",
              "    .dataframe thead th {\n",
              "        text-align: right;\n",
              "    }\n",
              "</style>\n",
              "<table border=\"1\" class=\"dataframe\">\n",
              "  <thead>\n",
              "    <tr style=\"text-align: right;\">\n",
              "      <th></th>\n",
              "      <th>index</th>\n",
              "      <th>UserId</th>\n",
              "      <th>difference</th>\n",
              "    </tr>\n",
              "  </thead>\n",
              "  <tbody>\n",
              "    <tr>\n",
              "      <th>0</th>\n",
              "      <td>2</td>\n",
              "      <td>A2B15SRBD1OEFY</td>\n",
              "      <td>0.123694</td>\n",
              "    </tr>\n",
              "    <tr>\n",
              "      <th>1</th>\n",
              "      <td>4</td>\n",
              "      <td>A134S6TOUH24QV</td>\n",
              "      <td>0.009528</td>\n",
              "    </tr>\n",
              "    <tr>\n",
              "      <th>2</th>\n",
              "      <td>6</td>\n",
              "      <td>A3N27L13CWJ9HY</td>\n",
              "      <td>0.094448</td>\n",
              "    </tr>\n",
              "    <tr>\n",
              "      <th>3</th>\n",
              "      <td>7</td>\n",
              "      <td>A1FATTRIXTSTEB</td>\n",
              "      <td>-0.014624</td>\n",
              "    </tr>\n",
              "    <tr>\n",
              "      <th>4</th>\n",
              "      <td>8</td>\n",
              "      <td>A2MSQNPTNAAGL1</td>\n",
              "      <td>-0.168807</td>\n",
              "    </tr>\n",
              "    <tr>\n",
              "      <th>...</th>\n",
              "      <td>...</td>\n",
              "      <td>...</td>\n",
              "      <td>...</td>\n",
              "    </tr>\n",
              "    <tr>\n",
              "      <th>2361</th>\n",
              "      <td>4889</td>\n",
              "      <td>A3JY5JLQ1ENMHX</td>\n",
              "      <td>-0.087942</td>\n",
              "    </tr>\n",
              "    <tr>\n",
              "      <th>2362</th>\n",
              "      <td>4890</td>\n",
              "      <td>A360EFJOE4L7IZ</td>\n",
              "      <td>-0.145420</td>\n",
              "    </tr>\n",
              "    <tr>\n",
              "      <th>2363</th>\n",
              "      <td>4892</td>\n",
              "      <td>A2E7CXJAJXLX3D</td>\n",
              "      <td>0.091926</td>\n",
              "    </tr>\n",
              "    <tr>\n",
              "      <th>2364</th>\n",
              "      <td>4895</td>\n",
              "      <td>A2YMZM2WJS9C0L</td>\n",
              "      <td>0.175918</td>\n",
              "    </tr>\n",
              "    <tr>\n",
              "      <th>2365</th>\n",
              "      <td>4897</td>\n",
              "      <td>A2OYA2I41LL5Y2</td>\n",
              "      <td>-0.193001</td>\n",
              "    </tr>\n",
              "  </tbody>\n",
              "</table>\n",
              "<p>2366 rows × 3 columns</p>\n",
              "</div>"
            ],
            "text/plain": [
              "      index          UserId  difference\n",
              "0         2  A2B15SRBD1OEFY    0.123694\n",
              "1         4  A134S6TOUH24QV    0.009528\n",
              "2         6  A3N27L13CWJ9HY    0.094448\n",
              "3         7  A1FATTRIXTSTEB   -0.014624\n",
              "4         8  A2MSQNPTNAAGL1   -0.168807\n",
              "...     ...             ...         ...\n",
              "2361   4889  A3JY5JLQ1ENMHX   -0.087942\n",
              "2362   4890  A360EFJOE4L7IZ   -0.145420\n",
              "2363   4892  A2E7CXJAJXLX3D    0.091926\n",
              "2364   4895  A2YMZM2WJS9C0L    0.175918\n",
              "2365   4897  A2OYA2I41LL5Y2   -0.193001\n",
              "\n",
              "[2366 rows x 3 columns]"
            ]
          },
          "metadata": {
            "tags": []
          },
          "execution_count": 19
        }
      ]
    },
    {
      "cell_type": "markdown",
      "metadata": {
        "id": "oOzTW12rZhTz"
      },
      "source": [
        "### Error between -0.5 and 0.5"
      ]
    },
    {
      "cell_type": "code",
      "metadata": {
        "id": "9D5hizYWZms8",
        "outputId": "9d60fb8c-4720-41c4-f89a-2f2a87e74ca9",
        "colab": {
          "base_uri": "https://localhost:8080/",
          "height": 419
        }
      },
      "source": [
        "bias_item_0d5 = item_diff[(item_diff['difference'] >= -0.5) & (item_diff['difference'] <= 0.5)]\n",
        "bias_item_0d5 = bias_item_0d5.reset_index()\n",
        "bias_item_0d5"
      ],
      "execution_count": null,
      "outputs": [
        {
          "output_type": "execute_result",
          "data": {
            "text/html": [
              "<div>\n",
              "<style scoped>\n",
              "    .dataframe tbody tr th:only-of-type {\n",
              "        vertical-align: middle;\n",
              "    }\n",
              "\n",
              "    .dataframe tbody tr th {\n",
              "        vertical-align: top;\n",
              "    }\n",
              "\n",
              "    .dataframe thead th {\n",
              "        text-align: right;\n",
              "    }\n",
              "</style>\n",
              "<table border=\"1\" class=\"dataframe\">\n",
              "  <thead>\n",
              "    <tr style=\"text-align: right;\">\n",
              "      <th></th>\n",
              "      <th>index</th>\n",
              "      <th>ProductId</th>\n",
              "      <th>difference</th>\n",
              "    </tr>\n",
              "  </thead>\n",
              "  <tbody>\n",
              "    <tr>\n",
              "      <th>0</th>\n",
              "      <td>2</td>\n",
              "      <td>B0029O10P4</td>\n",
              "      <td>0.134593</td>\n",
              "    </tr>\n",
              "    <tr>\n",
              "      <th>1</th>\n",
              "      <td>3</td>\n",
              "      <td>B000GAT6MM</td>\n",
              "      <td>0.034969</td>\n",
              "    </tr>\n",
              "    <tr>\n",
              "      <th>2</th>\n",
              "      <td>4</td>\n",
              "      <td>B000WFKGR0</td>\n",
              "      <td>0.022412</td>\n",
              "    </tr>\n",
              "    <tr>\n",
              "      <th>3</th>\n",
              "      <td>5</td>\n",
              "      <td>B000F0DW1E</td>\n",
              "      <td>-0.331037</td>\n",
              "    </tr>\n",
              "    <tr>\n",
              "      <th>4</th>\n",
              "      <td>6</td>\n",
              "      <td>B006Q7YG24</td>\n",
              "      <td>-0.180159</td>\n",
              "    </tr>\n",
              "    <tr>\n",
              "      <th>...</th>\n",
              "      <td>...</td>\n",
              "      <td>...</td>\n",
              "      <td>...</td>\n",
              "    </tr>\n",
              "    <tr>\n",
              "      <th>2319</th>\n",
              "      <td>3968</td>\n",
              "      <td>B001KZ2T12</td>\n",
              "      <td>-0.274762</td>\n",
              "    </tr>\n",
              "    <tr>\n",
              "      <th>2320</th>\n",
              "      <td>3970</td>\n",
              "      <td>B003OZX4ME</td>\n",
              "      <td>-0.069718</td>\n",
              "    </tr>\n",
              "    <tr>\n",
              "      <th>2321</th>\n",
              "      <td>3972</td>\n",
              "      <td>B000E5ILGQ</td>\n",
              "      <td>-0.380911</td>\n",
              "    </tr>\n",
              "    <tr>\n",
              "      <th>2322</th>\n",
              "      <td>3976</td>\n",
              "      <td>B0029NV488</td>\n",
              "      <td>0.200000</td>\n",
              "    </tr>\n",
              "    <tr>\n",
              "      <th>2323</th>\n",
              "      <td>3977</td>\n",
              "      <td>B000EMAZPO</td>\n",
              "      <td>0.468341</td>\n",
              "    </tr>\n",
              "  </tbody>\n",
              "</table>\n",
              "<p>2324 rows × 3 columns</p>\n",
              "</div>"
            ],
            "text/plain": [
              "      index   ProductId  difference\n",
              "0         2  B0029O10P4    0.134593\n",
              "1         3  B000GAT6MM    0.034969\n",
              "2         4  B000WFKGR0    0.022412\n",
              "3         5  B000F0DW1E   -0.331037\n",
              "4         6  B006Q7YG24   -0.180159\n",
              "...     ...         ...         ...\n",
              "2319   3968  B001KZ2T12   -0.274762\n",
              "2320   3970  B003OZX4ME   -0.069718\n",
              "2321   3972  B000E5ILGQ   -0.380911\n",
              "2322   3976  B0029NV488    0.200000\n",
              "2323   3977  B000EMAZPO    0.468341\n",
              "\n",
              "[2324 rows x 3 columns]"
            ]
          },
          "metadata": {
            "tags": []
          },
          "execution_count": 20
        }
      ]
    },
    {
      "cell_type": "code",
      "metadata": {
        "id": "VLwSot9IZvxq",
        "outputId": "72d0a189-0d41-4088-b2c5-cad90967b74a",
        "colab": {
          "base_uri": "https://localhost:8080/",
          "height": 419
        }
      },
      "source": [
        "bias_user_0d5 = user_diff[(user_diff['difference'] >= -0.5) & (user_diff['difference'] <= 0.5 )]\n",
        "bias_user_0d5 = bias_user_0d5.reset_index()\n",
        "bias_user_0d5"
      ],
      "execution_count": null,
      "outputs": [
        {
          "output_type": "execute_result",
          "data": {
            "text/html": [
              "<div>\n",
              "<style scoped>\n",
              "    .dataframe tbody tr th:only-of-type {\n",
              "        vertical-align: middle;\n",
              "    }\n",
              "\n",
              "    .dataframe tbody tr th {\n",
              "        vertical-align: top;\n",
              "    }\n",
              "\n",
              "    .dataframe thead th {\n",
              "        text-align: right;\n",
              "    }\n",
              "</style>\n",
              "<table border=\"1\" class=\"dataframe\">\n",
              "  <thead>\n",
              "    <tr style=\"text-align: right;\">\n",
              "      <th></th>\n",
              "      <th>index</th>\n",
              "      <th>UserId</th>\n",
              "      <th>difference</th>\n",
              "    </tr>\n",
              "  </thead>\n",
              "  <tbody>\n",
              "    <tr>\n",
              "      <th>0</th>\n",
              "      <td>1</td>\n",
              "      <td>AE9ZBY7WW3LIQ</td>\n",
              "      <td>0.444308</td>\n",
              "    </tr>\n",
              "    <tr>\n",
              "      <th>1</th>\n",
              "      <td>2</td>\n",
              "      <td>A2B15SRBD1OEFY</td>\n",
              "      <td>0.123694</td>\n",
              "    </tr>\n",
              "    <tr>\n",
              "      <th>2</th>\n",
              "      <td>3</td>\n",
              "      <td>ANRJ7OJLB3NS1</td>\n",
              "      <td>0.239591</td>\n",
              "    </tr>\n",
              "    <tr>\n",
              "      <th>3</th>\n",
              "      <td>4</td>\n",
              "      <td>A134S6TOUH24QV</td>\n",
              "      <td>0.009528</td>\n",
              "    </tr>\n",
              "    <tr>\n",
              "      <th>4</th>\n",
              "      <td>6</td>\n",
              "      <td>A3N27L13CWJ9HY</td>\n",
              "      <td>0.094448</td>\n",
              "    </tr>\n",
              "    <tr>\n",
              "      <th>...</th>\n",
              "      <td>...</td>\n",
              "      <td>...</td>\n",
              "      <td>...</td>\n",
              "    </tr>\n",
              "    <tr>\n",
              "      <th>3652</th>\n",
              "      <td>4895</td>\n",
              "      <td>A2YMZM2WJS9C0L</td>\n",
              "      <td>0.175918</td>\n",
              "    </tr>\n",
              "    <tr>\n",
              "      <th>3653</th>\n",
              "      <td>4896</td>\n",
              "      <td>A23K2W3WLBIA0K</td>\n",
              "      <td>-0.210526</td>\n",
              "    </tr>\n",
              "    <tr>\n",
              "      <th>3654</th>\n",
              "      <td>4897</td>\n",
              "      <td>A2OYA2I41LL5Y2</td>\n",
              "      <td>-0.193001</td>\n",
              "    </tr>\n",
              "    <tr>\n",
              "      <th>3655</th>\n",
              "      <td>4899</td>\n",
              "      <td>A1AVPWGPV8ZOGZ</td>\n",
              "      <td>0.400697</td>\n",
              "    </tr>\n",
              "    <tr>\n",
              "      <th>3656</th>\n",
              "      <td>4902</td>\n",
              "      <td>ALPQOXCRF3SSH</td>\n",
              "      <td>-0.346940</td>\n",
              "    </tr>\n",
              "  </tbody>\n",
              "</table>\n",
              "<p>3657 rows × 3 columns</p>\n",
              "</div>"
            ],
            "text/plain": [
              "      index          UserId  difference\n",
              "0         1   AE9ZBY7WW3LIQ    0.444308\n",
              "1         2  A2B15SRBD1OEFY    0.123694\n",
              "2         3   ANRJ7OJLB3NS1    0.239591\n",
              "3         4  A134S6TOUH24QV    0.009528\n",
              "4         6  A3N27L13CWJ9HY    0.094448\n",
              "...     ...             ...         ...\n",
              "3652   4895  A2YMZM2WJS9C0L    0.175918\n",
              "3653   4896  A23K2W3WLBIA0K   -0.210526\n",
              "3654   4897  A2OYA2I41LL5Y2   -0.193001\n",
              "3655   4899  A1AVPWGPV8ZOGZ    0.400697\n",
              "3656   4902   ALPQOXCRF3SSH   -0.346940\n",
              "\n",
              "[3657 rows x 3 columns]"
            ]
          },
          "metadata": {
            "tags": []
          },
          "execution_count": 21
        }
      ]
    },
    {
      "cell_type": "markdown",
      "metadata": {
        "id": "pA5BPI-lZ1vV"
      },
      "source": [
        "### Error between -1.0 and 1.0"
      ]
    },
    {
      "cell_type": "code",
      "metadata": {
        "id": "VLozZszkZ5lZ",
        "outputId": "b76678b3-e8a8-4283-b1c9-1272ac68996b",
        "colab": {
          "base_uri": "https://localhost:8080/",
          "height": 419
        }
      },
      "source": [
        "bias_item_1 = item_diff[(item_diff['difference'] >= -1.0) & (item_diff['difference'] <= 1.0)]\n",
        "bias_item_1 = bias_item_1.reset_index()\n",
        "bias_item_1"
      ],
      "execution_count": null,
      "outputs": [
        {
          "output_type": "execute_result",
          "data": {
            "text/html": [
              "<div>\n",
              "<style scoped>\n",
              "    .dataframe tbody tr th:only-of-type {\n",
              "        vertical-align: middle;\n",
              "    }\n",
              "\n",
              "    .dataframe tbody tr th {\n",
              "        vertical-align: top;\n",
              "    }\n",
              "\n",
              "    .dataframe thead th {\n",
              "        text-align: right;\n",
              "    }\n",
              "</style>\n",
              "<table border=\"1\" class=\"dataframe\">\n",
              "  <thead>\n",
              "    <tr style=\"text-align: right;\">\n",
              "      <th></th>\n",
              "      <th>index</th>\n",
              "      <th>ProductId</th>\n",
              "      <th>difference</th>\n",
              "    </tr>\n",
              "  </thead>\n",
              "  <tbody>\n",
              "    <tr>\n",
              "      <th>0</th>\n",
              "      <td>0</td>\n",
              "      <td>B002DHBTHG</td>\n",
              "      <td>-0.701814</td>\n",
              "    </tr>\n",
              "    <tr>\n",
              "      <th>1</th>\n",
              "      <td>1</td>\n",
              "      <td>7310172101</td>\n",
              "      <td>0.610247</td>\n",
              "    </tr>\n",
              "    <tr>\n",
              "      <th>2</th>\n",
              "      <td>2</td>\n",
              "      <td>B0029O10P4</td>\n",
              "      <td>0.134593</td>\n",
              "    </tr>\n",
              "    <tr>\n",
              "      <th>3</th>\n",
              "      <td>3</td>\n",
              "      <td>B000GAT6MM</td>\n",
              "      <td>0.034969</td>\n",
              "    </tr>\n",
              "    <tr>\n",
              "      <th>4</th>\n",
              "      <td>4</td>\n",
              "      <td>B000WFKGR0</td>\n",
              "      <td>0.022412</td>\n",
              "    </tr>\n",
              "    <tr>\n",
              "      <th>...</th>\n",
              "      <td>...</td>\n",
              "      <td>...</td>\n",
              "      <td>...</td>\n",
              "    </tr>\n",
              "    <tr>\n",
              "      <th>3134</th>\n",
              "      <td>3969</td>\n",
              "      <td>B000G7TBZW</td>\n",
              "      <td>-0.703960</td>\n",
              "    </tr>\n",
              "    <tr>\n",
              "      <th>3135</th>\n",
              "      <td>3970</td>\n",
              "      <td>B003OZX4ME</td>\n",
              "      <td>-0.069718</td>\n",
              "    </tr>\n",
              "    <tr>\n",
              "      <th>3136</th>\n",
              "      <td>3972</td>\n",
              "      <td>B000E5ILGQ</td>\n",
              "      <td>-0.380911</td>\n",
              "    </tr>\n",
              "    <tr>\n",
              "      <th>3137</th>\n",
              "      <td>3976</td>\n",
              "      <td>B0029NV488</td>\n",
              "      <td>0.200000</td>\n",
              "    </tr>\n",
              "    <tr>\n",
              "      <th>3138</th>\n",
              "      <td>3977</td>\n",
              "      <td>B000EMAZPO</td>\n",
              "      <td>0.468341</td>\n",
              "    </tr>\n",
              "  </tbody>\n",
              "</table>\n",
              "<p>3139 rows × 3 columns</p>\n",
              "</div>"
            ],
            "text/plain": [
              "      index   ProductId  difference\n",
              "0         0  B002DHBTHG   -0.701814\n",
              "1         1  7310172101    0.610247\n",
              "2         2  B0029O10P4    0.134593\n",
              "3         3  B000GAT6MM    0.034969\n",
              "4         4  B000WFKGR0    0.022412\n",
              "...     ...         ...         ...\n",
              "3134   3969  B000G7TBZW   -0.703960\n",
              "3135   3970  B003OZX4ME   -0.069718\n",
              "3136   3972  B000E5ILGQ   -0.380911\n",
              "3137   3976  B0029NV488    0.200000\n",
              "3138   3977  B000EMAZPO    0.468341\n",
              "\n",
              "[3139 rows x 3 columns]"
            ]
          },
          "metadata": {
            "tags": []
          },
          "execution_count": 22
        }
      ]
    },
    {
      "cell_type": "code",
      "metadata": {
        "id": "_DaJRYrIaKQB",
        "outputId": "5681ecfb-47bd-4a7d-920c-2379f3bc95ac",
        "colab": {
          "base_uri": "https://localhost:8080/",
          "height": 419
        }
      },
      "source": [
        "bias_user_1 = user_diff[(user_diff['difference'] >= -1.0) & (user_diff['difference'] <= 1.0 )]\n",
        "bias_user_1 = bias_user_1.reset_index()\n",
        "bias_user_1"
      ],
      "execution_count": null,
      "outputs": [
        {
          "output_type": "execute_result",
          "data": {
            "text/html": [
              "<div>\n",
              "<style scoped>\n",
              "    .dataframe tbody tr th:only-of-type {\n",
              "        vertical-align: middle;\n",
              "    }\n",
              "\n",
              "    .dataframe tbody tr th {\n",
              "        vertical-align: top;\n",
              "    }\n",
              "\n",
              "    .dataframe thead th {\n",
              "        text-align: right;\n",
              "    }\n",
              "</style>\n",
              "<table border=\"1\" class=\"dataframe\">\n",
              "  <thead>\n",
              "    <tr style=\"text-align: right;\">\n",
              "      <th></th>\n",
              "      <th>index</th>\n",
              "      <th>UserId</th>\n",
              "      <th>difference</th>\n",
              "    </tr>\n",
              "  </thead>\n",
              "  <tbody>\n",
              "    <tr>\n",
              "      <th>0</th>\n",
              "      <td>1</td>\n",
              "      <td>AE9ZBY7WW3LIQ</td>\n",
              "      <td>0.444308</td>\n",
              "    </tr>\n",
              "    <tr>\n",
              "      <th>1</th>\n",
              "      <td>2</td>\n",
              "      <td>A2B15SRBD1OEFY</td>\n",
              "      <td>0.123694</td>\n",
              "    </tr>\n",
              "    <tr>\n",
              "      <th>2</th>\n",
              "      <td>3</td>\n",
              "      <td>ANRJ7OJLB3NS1</td>\n",
              "      <td>0.239591</td>\n",
              "    </tr>\n",
              "    <tr>\n",
              "      <th>3</th>\n",
              "      <td>4</td>\n",
              "      <td>A134S6TOUH24QV</td>\n",
              "      <td>0.009528</td>\n",
              "    </tr>\n",
              "    <tr>\n",
              "      <th>4</th>\n",
              "      <td>5</td>\n",
              "      <td>A3A3248M3OO3UF</td>\n",
              "      <td>0.501301</td>\n",
              "    </tr>\n",
              "    <tr>\n",
              "      <th>...</th>\n",
              "      <td>...</td>\n",
              "      <td>...</td>\n",
              "      <td>...</td>\n",
              "    </tr>\n",
              "    <tr>\n",
              "      <th>4463</th>\n",
              "      <td>4896</td>\n",
              "      <td>A23K2W3WLBIA0K</td>\n",
              "      <td>-0.210526</td>\n",
              "    </tr>\n",
              "    <tr>\n",
              "      <th>4464</th>\n",
              "      <td>4897</td>\n",
              "      <td>A2OYA2I41LL5Y2</td>\n",
              "      <td>-0.193001</td>\n",
              "    </tr>\n",
              "    <tr>\n",
              "      <th>4465</th>\n",
              "      <td>4898</td>\n",
              "      <td>A3LG1P8JTSTK6M</td>\n",
              "      <td>-0.922027</td>\n",
              "    </tr>\n",
              "    <tr>\n",
              "      <th>4466</th>\n",
              "      <td>4899</td>\n",
              "      <td>A1AVPWGPV8ZOGZ</td>\n",
              "      <td>0.400697</td>\n",
              "    </tr>\n",
              "    <tr>\n",
              "      <th>4467</th>\n",
              "      <td>4902</td>\n",
              "      <td>ALPQOXCRF3SSH</td>\n",
              "      <td>-0.346940</td>\n",
              "    </tr>\n",
              "  </tbody>\n",
              "</table>\n",
              "<p>4468 rows × 3 columns</p>\n",
              "</div>"
            ],
            "text/plain": [
              "      index          UserId  difference\n",
              "0         1   AE9ZBY7WW3LIQ    0.444308\n",
              "1         2  A2B15SRBD1OEFY    0.123694\n",
              "2         3   ANRJ7OJLB3NS1    0.239591\n",
              "3         4  A134S6TOUH24QV    0.009528\n",
              "4         5  A3A3248M3OO3UF    0.501301\n",
              "...     ...             ...         ...\n",
              "4463   4896  A23K2W3WLBIA0K   -0.210526\n",
              "4464   4897  A2OYA2I41LL5Y2   -0.193001\n",
              "4465   4898  A3LG1P8JTSTK6M   -0.922027\n",
              "4466   4899  A1AVPWGPV8ZOGZ    0.400697\n",
              "4467   4902   ALPQOXCRF3SSH   -0.346940\n",
              "\n",
              "[4468 rows x 3 columns]"
            ]
          },
          "metadata": {
            "tags": []
          },
          "execution_count": 23
        }
      ]
    },
    {
      "cell_type": "markdown",
      "metadata": {
        "id": "4cpAwX8gaWvu"
      },
      "source": [
        "### Error greater than absolute value of 2"
      ]
    },
    {
      "cell_type": "code",
      "metadata": {
        "id": "Ula9gNbWyyQR",
        "outputId": "f2038975-db95-46ea-c497-0012b1c9f32a",
        "colab": {
          "base_uri": "https://localhost:8080/",
          "height": 419
        }
      },
      "source": [
        "high_bias_item = item_diff[(item_diff['difference'] >= 2) | (item_diff['difference'] <= -2)]\n",
        "high_bias_item = high_bias_item.reset_index()\n",
        "high_bias_item"
      ],
      "execution_count": null,
      "outputs": [
        {
          "output_type": "execute_result",
          "data": {
            "text/html": [
              "<div>\n",
              "<style scoped>\n",
              "    .dataframe tbody tr th:only-of-type {\n",
              "        vertical-align: middle;\n",
              "    }\n",
              "\n",
              "    .dataframe tbody tr th {\n",
              "        vertical-align: top;\n",
              "    }\n",
              "\n",
              "    .dataframe thead th {\n",
              "        text-align: right;\n",
              "    }\n",
              "</style>\n",
              "<table border=\"1\" class=\"dataframe\">\n",
              "  <thead>\n",
              "    <tr style=\"text-align: right;\">\n",
              "      <th></th>\n",
              "      <th>index</th>\n",
              "      <th>ProductId</th>\n",
              "      <th>difference</th>\n",
              "    </tr>\n",
              "  </thead>\n",
              "  <tbody>\n",
              "    <tr>\n",
              "      <th>0</th>\n",
              "      <td>13</td>\n",
              "      <td>B001535GEG</td>\n",
              "      <td>2.368979</td>\n",
              "    </tr>\n",
              "    <tr>\n",
              "      <th>1</th>\n",
              "      <td>58</td>\n",
              "      <td>B000EF3E3G</td>\n",
              "      <td>2.017974</td>\n",
              "    </tr>\n",
              "    <tr>\n",
              "      <th>2</th>\n",
              "      <td>170</td>\n",
              "      <td>B001CGTN3G</td>\n",
              "      <td>3.849977</td>\n",
              "    </tr>\n",
              "    <tr>\n",
              "      <th>3</th>\n",
              "      <td>243</td>\n",
              "      <td>B003V1O0BU</td>\n",
              "      <td>-2.229605</td>\n",
              "    </tr>\n",
              "    <tr>\n",
              "      <th>4</th>\n",
              "      <td>374</td>\n",
              "      <td>B001M19IJK</td>\n",
              "      <td>-2.572015</td>\n",
              "    </tr>\n",
              "    <tr>\n",
              "      <th>...</th>\n",
              "      <td>...</td>\n",
              "      <td>...</td>\n",
              "      <td>...</td>\n",
              "    </tr>\n",
              "    <tr>\n",
              "      <th>284</th>\n",
              "      <td>3963</td>\n",
              "      <td>B002CJCEQA</td>\n",
              "      <td>2.345986</td>\n",
              "    </tr>\n",
              "    <tr>\n",
              "      <th>285</th>\n",
              "      <td>3966</td>\n",
              "      <td>B001EQ4VYU</td>\n",
              "      <td>3.010314</td>\n",
              "    </tr>\n",
              "    <tr>\n",
              "      <th>286</th>\n",
              "      <td>3973</td>\n",
              "      <td>B004U7QY5O</td>\n",
              "      <td>2.000845</td>\n",
              "    </tr>\n",
              "    <tr>\n",
              "      <th>287</th>\n",
              "      <td>3974</td>\n",
              "      <td>B002UUJ590</td>\n",
              "      <td>-2.296139</td>\n",
              "    </tr>\n",
              "    <tr>\n",
              "      <th>288</th>\n",
              "      <td>3975</td>\n",
              "      <td>B000EYPNCW</td>\n",
              "      <td>2.545153</td>\n",
              "    </tr>\n",
              "  </tbody>\n",
              "</table>\n",
              "<p>289 rows × 3 columns</p>\n",
              "</div>"
            ],
            "text/plain": [
              "     index   ProductId  difference\n",
              "0       13  B001535GEG    2.368979\n",
              "1       58  B000EF3E3G    2.017974\n",
              "2      170  B001CGTN3G    3.849977\n",
              "3      243  B003V1O0BU   -2.229605\n",
              "4      374  B001M19IJK   -2.572015\n",
              "..     ...         ...         ...\n",
              "284   3963  B002CJCEQA    2.345986\n",
              "285   3966  B001EQ4VYU    3.010314\n",
              "286   3973  B004U7QY5O    2.000845\n",
              "287   3974  B002UUJ590   -2.296139\n",
              "288   3975  B000EYPNCW    2.545153\n",
              "\n",
              "[289 rows x 3 columns]"
            ]
          },
          "metadata": {
            "tags": []
          },
          "execution_count": 24
        }
      ]
    },
    {
      "cell_type": "code",
      "metadata": {
        "id": "O-WdQKCjy0Z7",
        "outputId": "b93ca79d-d501-4466-b5e0-78222fbefa92",
        "colab": {
          "base_uri": "https://localhost:8080/",
          "height": 419
        }
      },
      "source": [
        "high_bias_user = user_diff[(user_diff['difference'] >= 2) | (user_diff['difference'] <= -2)]\n",
        "high_bias_user = high_bias_user.reset_index()\n",
        "high_bias_user"
      ],
      "execution_count": null,
      "outputs": [
        {
          "output_type": "execute_result",
          "data": {
            "text/html": [
              "<div>\n",
              "<style scoped>\n",
              "    .dataframe tbody tr th:only-of-type {\n",
              "        vertical-align: middle;\n",
              "    }\n",
              "\n",
              "    .dataframe tbody tr th {\n",
              "        vertical-align: top;\n",
              "    }\n",
              "\n",
              "    .dataframe thead th {\n",
              "        text-align: right;\n",
              "    }\n",
              "</style>\n",
              "<table border=\"1\" class=\"dataframe\">\n",
              "  <thead>\n",
              "    <tr style=\"text-align: right;\">\n",
              "      <th></th>\n",
              "      <th>index</th>\n",
              "      <th>UserId</th>\n",
              "      <th>difference</th>\n",
              "    </tr>\n",
              "  </thead>\n",
              "  <tbody>\n",
              "    <tr>\n",
              "      <th>0</th>\n",
              "      <td>363</td>\n",
              "      <td>A1J52MX2YDWSU0</td>\n",
              "      <td>2.156150</td>\n",
              "    </tr>\n",
              "    <tr>\n",
              "      <th>1</th>\n",
              "      <td>481</td>\n",
              "      <td>A2BU2E73JJ3XLH</td>\n",
              "      <td>2.665306</td>\n",
              "    </tr>\n",
              "    <tr>\n",
              "      <th>2</th>\n",
              "      <td>562</td>\n",
              "      <td>A21Z0377YERLCH</td>\n",
              "      <td>2.127083</td>\n",
              "    </tr>\n",
              "    <tr>\n",
              "      <th>3</th>\n",
              "      <td>566</td>\n",
              "      <td>A3HHLRVCGQW0L7</td>\n",
              "      <td>2.060972</td>\n",
              "    </tr>\n",
              "    <tr>\n",
              "      <th>4</th>\n",
              "      <td>595</td>\n",
              "      <td>ABF6W9HQVLQU7</td>\n",
              "      <td>-2.557190</td>\n",
              "    </tr>\n",
              "    <tr>\n",
              "      <th>...</th>\n",
              "      <td>...</td>\n",
              "      <td>...</td>\n",
              "      <td>...</td>\n",
              "    </tr>\n",
              "    <tr>\n",
              "      <th>74</th>\n",
              "      <td>4829</td>\n",
              "      <td>A2211XUAO701D7</td>\n",
              "      <td>2.064111</td>\n",
              "    </tr>\n",
              "    <tr>\n",
              "      <th>75</th>\n",
              "      <td>4846</td>\n",
              "      <td>A3MKIT3HCYPBCA</td>\n",
              "      <td>-2.050000</td>\n",
              "    </tr>\n",
              "    <tr>\n",
              "      <th>76</th>\n",
              "      <td>4857</td>\n",
              "      <td>AATWFX0ZZSE6C</td>\n",
              "      <td>3.666667</td>\n",
              "    </tr>\n",
              "    <tr>\n",
              "      <th>77</th>\n",
              "      <td>4883</td>\n",
              "      <td>A1K4AIPL0NFAGF</td>\n",
              "      <td>3.101392</td>\n",
              "    </tr>\n",
              "    <tr>\n",
              "      <th>78</th>\n",
              "      <td>4903</td>\n",
              "      <td>A1752DLH60KYMK</td>\n",
              "      <td>2.045356</td>\n",
              "    </tr>\n",
              "  </tbody>\n",
              "</table>\n",
              "<p>79 rows × 3 columns</p>\n",
              "</div>"
            ],
            "text/plain": [
              "    index          UserId  difference\n",
              "0     363  A1J52MX2YDWSU0    2.156150\n",
              "1     481  A2BU2E73JJ3XLH    2.665306\n",
              "2     562  A21Z0377YERLCH    2.127083\n",
              "3     566  A3HHLRVCGQW0L7    2.060972\n",
              "4     595   ABF6W9HQVLQU7   -2.557190\n",
              "..    ...             ...         ...\n",
              "74   4829  A2211XUAO701D7    2.064111\n",
              "75   4846  A3MKIT3HCYPBCA   -2.050000\n",
              "76   4857   AATWFX0ZZSE6C    3.666667\n",
              "77   4883  A1K4AIPL0NFAGF    3.101392\n",
              "78   4903  A1752DLH60KYMK    2.045356\n",
              "\n",
              "[79 rows x 3 columns]"
            ]
          },
          "metadata": {
            "tags": []
          },
          "execution_count": 25
        }
      ]
    },
    {
      "cell_type": "markdown",
      "metadata": {
        "id": "zXyvqU5ga-F2"
      },
      "source": [
        "# Anomaly detection\n",
        "### High error (absolute value greater than 2)"
      ]
    },
    {
      "cell_type": "code",
      "metadata": {
        "id": "z_tMTHxahgwH"
      },
      "source": [
        "user_item_pair_list_an = []\n",
        "for i in range(len(high_bias_user)):\n",
        "  for j in range(len(high_bias_item)):\n",
        "    if ((test_data['UserId'] == high_bias_user['UserId'][i]) & (test_data['ProductId'] == high_bias_item['ProductId'][j])).any() == True:\n",
        "      temp = test_data[(test_data['UserId'] == high_bias_user['UserId'][i]) & (test_data['ProductId'] == high_bias_item['ProductId'][j])]\n",
        "      temp = temp.values.tolist()\n",
        "      user_item_pair_list_an.append(temp)"
      ],
      "execution_count": null,
      "outputs": []
    },
    {
      "cell_type": "code",
      "metadata": {
        "id": "9VhQEYVBhx03",
        "outputId": "59fc0004-6e3f-4f7f-a55a-d103f9efe887",
        "colab": {
          "base_uri": "https://localhost:8080/",
          "height": 204
        }
      },
      "source": [
        "user_item_pair_an_np = np.array(user_item_pair_list_an)\n",
        "user_item_pair_an_np = user_item_pair_an_np.reshape(len(user_item_pair_list_an),8)\n",
        "user_item_pair_an = pd.DataFrame(user_item_pair_an_np)\n",
        "user_item_pair_an.columns = ['ProductId', 'UserId', 'Summary', 'Text', 'Score', 'Unbiased_Score', 'Biased_Score', 'difference']\n",
        "user_item_pair_an.tail()"
      ],
      "execution_count": null,
      "outputs": [
        {
          "output_type": "execute_result",
          "data": {
            "text/html": [
              "<div>\n",
              "<style scoped>\n",
              "    .dataframe tbody tr th:only-of-type {\n",
              "        vertical-align: middle;\n",
              "    }\n",
              "\n",
              "    .dataframe tbody tr th {\n",
              "        vertical-align: top;\n",
              "    }\n",
              "\n",
              "    .dataframe thead th {\n",
              "        text-align: right;\n",
              "    }\n",
              "</style>\n",
              "<table border=\"1\" class=\"dataframe\">\n",
              "  <thead>\n",
              "    <tr style=\"text-align: right;\">\n",
              "      <th></th>\n",
              "      <th>ProductId</th>\n",
              "      <th>UserId</th>\n",
              "      <th>Summary</th>\n",
              "      <th>Text</th>\n",
              "      <th>Score</th>\n",
              "      <th>Unbiased_Score</th>\n",
              "      <th>Biased_Score</th>\n",
              "      <th>difference</th>\n",
              "    </tr>\n",
              "  </thead>\n",
              "  <tbody>\n",
              "    <tr>\n",
              "      <th>32</th>\n",
              "      <td>B0029NICD8</td>\n",
              "      <td>AALWYV9IY0EKZ</td>\n",
              "      <td>b' look good to me but not to my cat appar'</td>\n",
              "      <td>b' i buy the whiska choic cut seafood varieti ...</td>\n",
              "      <td>2.0</td>\n",
              "      <td>4.3744408369408365</td>\n",
              "      <td>4.383543771043771</td>\n",
              "      <td>2.3835437710437706</td>\n",
              "    </tr>\n",
              "    <tr>\n",
              "      <th>33</th>\n",
              "      <td>B002WDCAJ2</td>\n",
              "      <td>A17BXN9X0G4U3Q</td>\n",
              "      <td>b' strong bitter tast'</td>\n",
              "      <td>b' i be use to strong coffe so few coffe work ...</td>\n",
              "      <td>3.0</td>\n",
              "      <td>5.0</td>\n",
              "      <td>5.0</td>\n",
              "      <td>2.0</td>\n",
              "    </tr>\n",
              "    <tr>\n",
              "      <th>34</th>\n",
              "      <td>B001EO772A</td>\n",
              "      <td>A2211XUAO701D7</td>\n",
              "      <td>b' weak more like strong tea'</td>\n",
              "      <td>b' i wasn t a big fan of thi coffe $ i love th...</td>\n",
              "      <td>3.0</td>\n",
              "      <td>5.229615384615385</td>\n",
              "      <td>5.0641105769230785</td>\n",
              "      <td>2.0641105769230785</td>\n",
              "    </tr>\n",
              "    <tr>\n",
              "      <th>35</th>\n",
              "      <td>B002NBUNYM</td>\n",
              "      <td>A3MKIT3HCYPBCA</td>\n",
              "      <td>b' good morn coffe'</td>\n",
              "      <td>b' a friend purchas thi and share with me $ th...</td>\n",
              "      <td>4.0</td>\n",
              "      <td>1.85</td>\n",
              "      <td>1.95</td>\n",
              "      <td>-2.05</td>\n",
              "    </tr>\n",
              "    <tr>\n",
              "      <th>36</th>\n",
              "      <td>B002RBOB1O</td>\n",
              "      <td>AATWFX0ZZSE6C</td>\n",
              "      <td>b' tasti but waxi'</td>\n",
              "      <td>b' i mean they be tasti but after have a cold ...</td>\n",
              "      <td>3.0</td>\n",
              "      <td>7.0</td>\n",
              "      <td>6.666666666666666</td>\n",
              "      <td>3.666666666666666</td>\n",
              "    </tr>\n",
              "  </tbody>\n",
              "</table>\n",
              "</div>"
            ],
            "text/plain": [
              "     ProductId          UserId  ...        Biased_Score          difference\n",
              "32  B0029NICD8   AALWYV9IY0EKZ  ...   4.383543771043771  2.3835437710437706\n",
              "33  B002WDCAJ2  A17BXN9X0G4U3Q  ...                 5.0                 2.0\n",
              "34  B001EO772A  A2211XUAO701D7  ...  5.0641105769230785  2.0641105769230785\n",
              "35  B002NBUNYM  A3MKIT3HCYPBCA  ...                1.95               -2.05\n",
              "36  B002RBOB1O   AATWFX0ZZSE6C  ...   6.666666666666666   3.666666666666666\n",
              "\n",
              "[5 rows x 8 columns]"
            ]
          },
          "metadata": {
            "tags": []
          },
          "execution_count": 27
        }
      ]
    },
    {
      "cell_type": "code",
      "metadata": {
        "id": "VZ_A1CeIiuuv"
      },
      "source": [
        "user_item_pair_an.to_csv('drive/My Drive/ubr/food/Bias_anomaly_inference.csv', index=False)"
      ],
      "execution_count": null,
      "outputs": []
    },
    {
      "cell_type": "markdown",
      "metadata": {
        "id": "cuatm64WbC_e"
      },
      "source": [
        "# Analysis of discrepancy in bias present in review text and review score\n",
        "### We picked user and products having very small mean error rate (between -0.02 and 0.02); Noted ambiguous review text with consistent bias in review rating"
      ]
    },
    {
      "cell_type": "code",
      "metadata": {
        "id": "Qmt57ONZMLC2",
        "outputId": "668ff6a7-1544-4754-8d57-d2a144d1fe16",
        "colab": {
          "base_uri": "https://localhost:8080/",
          "height": 204
        }
      },
      "source": [
        "bias_item = item_diff[(item_diff['difference'] >= -0.02) & (item_diff['difference'] <= 0.02)]\n",
        "bias_item = bias_item.reset_index()\n",
        "bias_item.tail()"
      ],
      "execution_count": null,
      "outputs": [
        {
          "output_type": "execute_result",
          "data": {
            "text/html": [
              "<div>\n",
              "<style scoped>\n",
              "    .dataframe tbody tr th:only-of-type {\n",
              "        vertical-align: middle;\n",
              "    }\n",
              "\n",
              "    .dataframe tbody tr th {\n",
              "        vertical-align: top;\n",
              "    }\n",
              "\n",
              "    .dataframe thead th {\n",
              "        text-align: right;\n",
              "    }\n",
              "</style>\n",
              "<table border=\"1\" class=\"dataframe\">\n",
              "  <thead>\n",
              "    <tr style=\"text-align: right;\">\n",
              "      <th></th>\n",
              "      <th>index</th>\n",
              "      <th>ProductId</th>\n",
              "      <th>difference</th>\n",
              "    </tr>\n",
              "  </thead>\n",
              "  <tbody>\n",
              "    <tr>\n",
              "      <th>247</th>\n",
              "      <td>3899</td>\n",
              "      <td>B000E1DSPO</td>\n",
              "      <td>0.004184</td>\n",
              "    </tr>\n",
              "    <tr>\n",
              "      <th>248</th>\n",
              "      <td>3915</td>\n",
              "      <td>B0029NWW5W</td>\n",
              "      <td>0.008108</td>\n",
              "    </tr>\n",
              "    <tr>\n",
              "      <th>249</th>\n",
              "      <td>3940</td>\n",
              "      <td>B000PDY3HI</td>\n",
              "      <td>0.002521</td>\n",
              "    </tr>\n",
              "    <tr>\n",
              "      <th>250</th>\n",
              "      <td>3946</td>\n",
              "      <td>B000FDBRI6</td>\n",
              "      <td>0.019162</td>\n",
              "    </tr>\n",
              "    <tr>\n",
              "      <th>251</th>\n",
              "      <td>3957</td>\n",
              "      <td>B001D0GV7M</td>\n",
              "      <td>0.000000</td>\n",
              "    </tr>\n",
              "  </tbody>\n",
              "</table>\n",
              "</div>"
            ],
            "text/plain": [
              "     index   ProductId  difference\n",
              "247   3899  B000E1DSPO    0.004184\n",
              "248   3915  B0029NWW5W    0.008108\n",
              "249   3940  B000PDY3HI    0.002521\n",
              "250   3946  B000FDBRI6    0.019162\n",
              "251   3957  B001D0GV7M    0.000000"
            ]
          },
          "metadata": {
            "tags": []
          },
          "execution_count": 29
        }
      ]
    },
    {
      "cell_type": "code",
      "metadata": {
        "id": "JnVDQrByMb0k",
        "outputId": "7a2f4f64-4ded-40ea-fbe0-0027dc21a30f",
        "colab": {
          "base_uri": "https://localhost:8080/",
          "height": 204
        }
      },
      "source": [
        "bias_user = user_diff[(user_diff['difference'] >= -0.02) & (user_diff['difference'] <= 0.02)]\n",
        "bias_user = bias_user.reset_index()\n",
        "bias_user.tail()"
      ],
      "execution_count": null,
      "outputs": [
        {
          "output_type": "execute_result",
          "data": {
            "text/html": [
              "<div>\n",
              "<style scoped>\n",
              "    .dataframe tbody tr th:only-of-type {\n",
              "        vertical-align: middle;\n",
              "    }\n",
              "\n",
              "    .dataframe tbody tr th {\n",
              "        vertical-align: top;\n",
              "    }\n",
              "\n",
              "    .dataframe thead th {\n",
              "        text-align: right;\n",
              "    }\n",
              "</style>\n",
              "<table border=\"1\" class=\"dataframe\">\n",
              "  <thead>\n",
              "    <tr style=\"text-align: right;\">\n",
              "      <th></th>\n",
              "      <th>index</th>\n",
              "      <th>UserId</th>\n",
              "      <th>difference</th>\n",
              "    </tr>\n",
              "  </thead>\n",
              "  <tbody>\n",
              "    <tr>\n",
              "      <th>615</th>\n",
              "      <td>4867</td>\n",
              "      <td>A263T0EFU3GJA5</td>\n",
              "      <td>0.013218</td>\n",
              "    </tr>\n",
              "    <tr>\n",
              "      <th>616</th>\n",
              "      <td>4878</td>\n",
              "      <td>A9RZL4DEXSXGS</td>\n",
              "      <td>-0.006293</td>\n",
              "    </tr>\n",
              "    <tr>\n",
              "      <th>617</th>\n",
              "      <td>4879</td>\n",
              "      <td>AH9MUK2Z52V6N</td>\n",
              "      <td>0.017518</td>\n",
              "    </tr>\n",
              "    <tr>\n",
              "      <th>618</th>\n",
              "      <td>4886</td>\n",
              "      <td>ATRNPNV3V7VXU</td>\n",
              "      <td>0.000000</td>\n",
              "    </tr>\n",
              "    <tr>\n",
              "      <th>619</th>\n",
              "      <td>4887</td>\n",
              "      <td>AI45MQMDG3FLB</td>\n",
              "      <td>0.000000</td>\n",
              "    </tr>\n",
              "  </tbody>\n",
              "</table>\n",
              "</div>"
            ],
            "text/plain": [
              "     index          UserId  difference\n",
              "615   4867  A263T0EFU3GJA5    0.013218\n",
              "616   4878   A9RZL4DEXSXGS   -0.006293\n",
              "617   4879   AH9MUK2Z52V6N    0.017518\n",
              "618   4886   ATRNPNV3V7VXU    0.000000\n",
              "619   4887   AI45MQMDG3FLB    0.000000"
            ]
          },
          "metadata": {
            "tags": []
          },
          "execution_count": 30
        }
      ]
    },
    {
      "cell_type": "markdown",
      "metadata": {
        "id": "edhxYOhF1DC6"
      },
      "source": [
        "### Selection of all the tuples whose users and products have mean error less than an absolute value of 0.02"
      ]
    },
    {
      "cell_type": "code",
      "metadata": {
        "id": "y0WwM7TRzgvV"
      },
      "source": [
        "user_item_pair_list = []\n",
        "for i in range(len(bias_user)):\n",
        "  for j in range(len(bias_item)):\n",
        "    if ((test_data['UserId'] == bias_user['UserId'][i]) & (test_data['ProductId'] == bias_item['ProductId'][j])).any() == True:\n",
        "      temp = test_data[(test_data['UserId'] == bias_user['UserId'][i]) & (test_data['ProductId'] == bias_item['ProductId'][j])]\n",
        "      user_item_pair_list.append(temp)"
      ],
      "execution_count": null,
      "outputs": []
    },
    {
      "cell_type": "code",
      "metadata": {
        "id": "n84DzPmiqIH5",
        "outputId": "1e43f4f2-54dd-42af-ffdb-40aa14e90b18",
        "colab": {
          "base_uri": "https://localhost:8080/",
          "height": 1000
        }
      },
      "source": [
        "user_item_pair = pd.concat(user_item_pair_list)\n",
        "user_item_pair = user_item_pair.reset_index()\n",
        "user_item_pair = user_item_pair.iloc[:,1:]\n",
        "user_item_pair"
      ],
      "execution_count": null,
      "outputs": [
        {
          "output_type": "execute_result",
          "data": {
            "text/html": [
              "<div>\n",
              "<style scoped>\n",
              "    .dataframe tbody tr th:only-of-type {\n",
              "        vertical-align: middle;\n",
              "    }\n",
              "\n",
              "    .dataframe tbody tr th {\n",
              "        vertical-align: top;\n",
              "    }\n",
              "\n",
              "    .dataframe thead th {\n",
              "        text-align: right;\n",
              "    }\n",
              "</style>\n",
              "<table border=\"1\" class=\"dataframe\">\n",
              "  <thead>\n",
              "    <tr style=\"text-align: right;\">\n",
              "      <th></th>\n",
              "      <th>ProductId</th>\n",
              "      <th>UserId</th>\n",
              "      <th>Summary</th>\n",
              "      <th>Text</th>\n",
              "      <th>Score</th>\n",
              "      <th>Unbiased_Score</th>\n",
              "      <th>Biased_Score</th>\n",
              "      <th>difference</th>\n",
              "    </tr>\n",
              "  </thead>\n",
              "  <tbody>\n",
              "    <tr>\n",
              "      <th>0</th>\n",
              "      <td>B003VIWN1W</td>\n",
              "      <td>A134S6TOUH24QV</td>\n",
              "      <td>b' my dog love thi'</td>\n",
              "      <td>b' thi be one food that when mix with their dr...</td>\n",
              "      <td>5.0</td>\n",
              "      <td>5.038092</td>\n",
              "      <td>5.006245</td>\n",
              "      <td>0.006245</td>\n",
              "    </tr>\n",
              "    <tr>\n",
              "      <th>1</th>\n",
              "      <td>B001F2AV42</td>\n",
              "      <td>A134S6TOUH24QV</td>\n",
              "      <td>b' my dog love thi'</td>\n",
              "      <td>b' thi be one food that when mix with their dr...</td>\n",
              "      <td>5.0</td>\n",
              "      <td>5.063455</td>\n",
              "      <td>5.011537</td>\n",
              "      <td>0.011537</td>\n",
              "    </tr>\n",
              "    <tr>\n",
              "      <th>2</th>\n",
              "      <td>B003VIWN1M</td>\n",
              "      <td>A134S6TOUH24QV</td>\n",
              "      <td>b' my dog love thi'</td>\n",
              "      <td>b' thi be one food that when mix with their dr...</td>\n",
              "      <td>5.0</td>\n",
              "      <td>5.060637</td>\n",
              "      <td>5.008917</td>\n",
              "      <td>0.008917</td>\n",
              "    </tr>\n",
              "    <tr>\n",
              "      <th>3</th>\n",
              "      <td>B005VOONLW</td>\n",
              "      <td>A1FATTRIXTSTEB</td>\n",
              "      <td>b' fresh great tast'</td>\n",
              "      <td>b' i be a tea lover and be not realli a coffe ...</td>\n",
              "      <td>5.0</td>\n",
              "      <td>4.975522</td>\n",
              "      <td>4.985376</td>\n",
              "      <td>-0.014624</td>\n",
              "    </tr>\n",
              "    <tr>\n",
              "      <th>4</th>\n",
              "      <td>B000CQIDHE</td>\n",
              "      <td>A2MR45IS172241</td>\n",
              "      <td>b' find it again'</td>\n",
              "      <td>b' i ve be search store for thi special licori...</td>\n",
              "      <td>5.0</td>\n",
              "      <td>5.019549</td>\n",
              "      <td>5.001189</td>\n",
              "      <td>0.001189</td>\n",
              "    </tr>\n",
              "    <tr>\n",
              "      <th>...</th>\n",
              "      <td>...</td>\n",
              "      <td>...</td>\n",
              "      <td>...</td>\n",
              "      <td>...</td>\n",
              "      <td>...</td>\n",
              "      <td>...</td>\n",
              "      <td>...</td>\n",
              "      <td>...</td>\n",
              "    </tr>\n",
              "    <tr>\n",
              "      <th>540</th>\n",
              "      <td>B000CQC05K</td>\n",
              "      <td>A3G77L0AQVNRPV</td>\n",
              "      <td>b' veri sooth'</td>\n",
              "      <td>b' stash licoric spice tea be so sooth $ i can...</td>\n",
              "      <td>5.0</td>\n",
              "      <td>5.026695</td>\n",
              "      <td>5.002097</td>\n",
              "      <td>0.002097</td>\n",
              "    </tr>\n",
              "    <tr>\n",
              "      <th>541</th>\n",
              "      <td>B000CQG89Y</td>\n",
              "      <td>A3AM8NR0L4FFOA</td>\n",
              "      <td>b' the best tea'</td>\n",
              "      <td>b' i love red tea by stash $ it be veri diffic...</td>\n",
              "      <td>5.0</td>\n",
              "      <td>5.017926</td>\n",
              "      <td>5.001370</td>\n",
              "      <td>0.001370</td>\n",
              "    </tr>\n",
              "    <tr>\n",
              "      <th>542</th>\n",
              "      <td>B001RVFEP2</td>\n",
              "      <td>A3TQ0ZSAD2G98A</td>\n",
              "      <td>b' salt and pepper $'</td>\n",
              "      <td>b' popchip be delici $ we buy a varieti pack $...</td>\n",
              "      <td>5.0</td>\n",
              "      <td>5.106810</td>\n",
              "      <td>5.005431</td>\n",
              "      <td>0.005431</td>\n",
              "    </tr>\n",
              "    <tr>\n",
              "      <th>543</th>\n",
              "      <td>B00375LB9E</td>\n",
              "      <td>A3C18MRX72K9RV</td>\n",
              "      <td>b' these be great'</td>\n",
              "      <td>b' i buy these sprinkl for my cupcak and not o...</td>\n",
              "      <td>5.0</td>\n",
              "      <td>5.000000</td>\n",
              "      <td>5.000000</td>\n",
              "      <td>0.000000</td>\n",
              "    </tr>\n",
              "    <tr>\n",
              "      <th>544</th>\n",
              "      <td>B000EQYQBO</td>\n",
              "      <td>AXRV07XDS6V89</td>\n",
              "      <td>b' the bag not contain onli ounc'</td>\n",
              "      <td>b' like the chip howev thi last time the bag o...</td>\n",
              "      <td>4.0</td>\n",
              "      <td>4.031668</td>\n",
              "      <td>4.003695</td>\n",
              "      <td>0.003695</td>\n",
              "    </tr>\n",
              "  </tbody>\n",
              "</table>\n",
              "<p>545 rows × 8 columns</p>\n",
              "</div>"
            ],
            "text/plain": [
              "      ProductId          UserId  ... Biased_Score difference\n",
              "0    B003VIWN1W  A134S6TOUH24QV  ...     5.006245   0.006245\n",
              "1    B001F2AV42  A134S6TOUH24QV  ...     5.011537   0.011537\n",
              "2    B003VIWN1M  A134S6TOUH24QV  ...     5.008917   0.008917\n",
              "3    B005VOONLW  A1FATTRIXTSTEB  ...     4.985376  -0.014624\n",
              "4    B000CQIDHE  A2MR45IS172241  ...     5.001189   0.001189\n",
              "..          ...             ...  ...          ...        ...\n",
              "540  B000CQC05K  A3G77L0AQVNRPV  ...     5.002097   0.002097\n",
              "541  B000CQG89Y  A3AM8NR0L4FFOA  ...     5.001370   0.001370\n",
              "542  B001RVFEP2  A3TQ0ZSAD2G98A  ...     5.005431   0.005431\n",
              "543  B00375LB9E  A3C18MRX72K9RV  ...     5.000000   0.000000\n",
              "544  B000EQYQBO   AXRV07XDS6V89  ...     4.003695   0.003695\n",
              "\n",
              "[545 rows x 8 columns]"
            ]
          },
          "metadata": {
            "tags": []
          },
          "execution_count": 32
        }
      ]
    },
    {
      "cell_type": "code",
      "metadata": {
        "id": "P_O3iA8x0AW2"
      },
      "source": [
        "user_item_pair.to_csv('drive/My Drive/ubr/food/bias_0dec02_inference.csv', index=False)"
      ],
      "execution_count": null,
      "outputs": []
    },
    {
      "cell_type": "markdown",
      "metadata": {
        "id": "6dxHkndrsaPN"
      },
      "source": [
        "### Selection of a few tuples where the review text and review summary is ambiguous"
      ]
    },
    {
      "cell_type": "code",
      "metadata": {
        "id": "QiNP1VGdUTww"
      },
      "source": [
        "text_discrepancy = user_item_pair.iloc[[33,139,153,214,453], [2,3,4,6]]"
      ],
      "execution_count": null,
      "outputs": []
    },
    {
      "cell_type": "code",
      "metadata": {
        "id": "xkf42kjzZ67b",
        "outputId": "347e7b21-9856-452a-881d-517b91f006ab",
        "colab": {
          "base_uri": "https://localhost:8080/",
          "height": 204
        }
      },
      "source": [
        "text_discrepancy = text_discrepancy.reset_index()\n",
        "text_discrepancy"
      ],
      "execution_count": null,
      "outputs": [
        {
          "output_type": "execute_result",
          "data": {
            "text/html": [
              "<div>\n",
              "<style scoped>\n",
              "    .dataframe tbody tr th:only-of-type {\n",
              "        vertical-align: middle;\n",
              "    }\n",
              "\n",
              "    .dataframe tbody tr th {\n",
              "        vertical-align: top;\n",
              "    }\n",
              "\n",
              "    .dataframe thead th {\n",
              "        text-align: right;\n",
              "    }\n",
              "</style>\n",
              "<table border=\"1\" class=\"dataframe\">\n",
              "  <thead>\n",
              "    <tr style=\"text-align: right;\">\n",
              "      <th></th>\n",
              "      <th>index</th>\n",
              "      <th>Summary</th>\n",
              "      <th>Text</th>\n",
              "      <th>Score</th>\n",
              "      <th>Biased_Score</th>\n",
              "    </tr>\n",
              "  </thead>\n",
              "  <tbody>\n",
              "    <tr>\n",
              "      <th>0</th>\n",
              "      <td>33</td>\n",
              "      <td>b' disappoint with amazon s polici'</td>\n",
              "      <td>b' price drop by in matter of day $ item didn ...</td>\n",
              "      <td>4.0</td>\n",
              "      <td>4.000000</td>\n",
              "    </tr>\n",
              "    <tr>\n",
              "      <th>1</th>\n",
              "      <td>139</td>\n",
              "      <td>b' good chip close to expir date'</td>\n",
              "      <td>b' these be good chip but they be a month away...</td>\n",
              "      <td>3.0</td>\n",
              "      <td>3.083024</td>\n",
              "    </tr>\n",
              "    <tr>\n",
              "      <th>2</th>\n",
              "      <td>153</td>\n",
              "      <td>b' best blue diamond almond'</td>\n",
              "      <td>b' i be so delight to get these salt and vineg...</td>\n",
              "      <td>5.0</td>\n",
              "      <td>5.004206</td>\n",
              "    </tr>\n",
              "    <tr>\n",
              "      <th>3</th>\n",
              "      <td>214</td>\n",
              "      <td>b' awesom bone'</td>\n",
              "      <td>b' my dog beg for these treat everi night afte...</td>\n",
              "      <td>4.0</td>\n",
              "      <td>3.992660</td>\n",
              "    </tr>\n",
              "    <tr>\n",
              "      <th>4</th>\n",
              "      <td>453</td>\n",
              "      <td>b' veri strong'</td>\n",
              "      <td>b' thi be my first bag of chai tea and i have ...</td>\n",
              "      <td>3.0</td>\n",
              "      <td>2.995954</td>\n",
              "    </tr>\n",
              "  </tbody>\n",
              "</table>\n",
              "</div>"
            ],
            "text/plain": [
              "   index                              Summary  ... Score  Biased_Score\n",
              "0     33  b' disappoint with amazon s polici'  ...   4.0      4.000000\n",
              "1    139    b' good chip close to expir date'  ...   3.0      3.083024\n",
              "2    153         b' best blue diamond almond'  ...   5.0      5.004206\n",
              "3    214                      b' awesom bone'  ...   4.0      3.992660\n",
              "4    453                      b' veri strong'  ...   3.0      2.995954\n",
              "\n",
              "[5 rows x 5 columns]"
            ]
          },
          "metadata": {
            "tags": []
          },
          "execution_count": 38
        }
      ]
    },
    {
      "cell_type": "code",
      "metadata": {
        "id": "SPduVsy7crHQ"
      },
      "source": [
        "text_discrepancy.to_csv('drive/My Drive/ubr/food/rel_review_rating.csv', index=False)"
      ],
      "execution_count": null,
      "outputs": []
    }
  ]
}